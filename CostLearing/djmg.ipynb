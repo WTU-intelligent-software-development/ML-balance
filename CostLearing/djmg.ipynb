{
 "cells": [
  {
   "attachments": {},
   "cell_type": "markdown",
   "metadata": {},
   "source": [
    "##  读取数据"
   ]
  },
  {
   "cell_type": "code",
   "execution_count": 1,
   "metadata": {},
   "outputs": [
    {
     "name": "stdout",
     "output_type": "stream",
     "text": [
      "Raw X data statistics:\n",
      "Counter({0: 1, 1: 1, 2: 1, 3: 1, 4: 1, 5: 1, 6: 1, 7: 1, 8: 1, 9: 1})\n",
      "Raw X data statistics:\n",
      "Counter({0: 1, 1: 1, 2: 1, 3: 1, 4: 1, 5: 1, 6: 1, 7: 1, 8: 1, 9: 1})\n",
      "Raw X data statistics:\n",
      "Counter({0: 1, 1: 1, 2: 1, 3: 1, 4: 1, 5: 1, 6: 1, 7: 1, 8: 1, 9: 1})\n",
      "Raw X data statistics:\n",
      "Counter({0: 1, 1: 1, 2: 1, 3: 1, 4: 1, 5: 1, 6: 1, 7: 1, 8: 1, 9: 1})\n",
      "Raw X data statistics:\n",
      "Counter({0: 1, 1: 1, 2: 1, 3: 1, 4: 1, 5: 1, 6: 1, 7: 1, 8: 1, 9: 1})\n",
      "Raw X data statistics:\n",
      "Counter({0: 1, 1: 1, 2: 1, 3: 1, 4: 1, 5: 1, 6: 1, 7: 1, 8: 1, 9: 1})\n",
      "Raw X data statistics:\n",
      "Counter({0: 1, 1: 1, 2: 1, 3: 1, 4: 1, 5: 1, 6: 1, 7: 1, 8: 1, 9: 1})\n"
     ]
    }
   ],
   "source": [
    "import data_into as dt\n",
    "filepath1='./data/Data_ID_TC.csv'\n",
    "filepath2='./data/Data_ID_UC.csv'\n",
    "filepath3='./data/Data_TC_CC.csv'\n",
    "filepath4='./data/Data_UC_CC.csv'\n",
    "filepath5='./data/Data_UC_TC.csv'\n",
    "filepath6='./data/Data_iTrust.csv'\n",
    "filepath7='./data/Data_SMOS.csv'\n",
    "X_dataset_ID_TC, y_dataset_ID_TC,data_ID_TC = dt.data_into(filepath1)\n",
    "X_dataset_ID_UC, y_dataset_ID_UC,data_ID_UC = dt.data_into(filepath2)\n",
    "X_dataset_TC_CC, y_dataset_TC_CC,data_TC_CC = dt.data_into(filepath3)\n",
    "X_dataset_UC_CC, y_dataset_UC_CC,data_UC_CC = dt.data_into(filepath4)\n",
    "X_dataset_UC_TC, y_dataset_UC_TC,data_UC_TC = dt.data_into(filepath5)\n",
    "#代码制品\n",
    "X_dataset_iTrust, y_dataset_iTrust,data_iTrust = dt.data_into(filepath6)\n",
    "X_dataset_SMOS, y_dataset_SMOS,data_SMOS = dt.data_into(filepath7)"
   ]
  },
  {
   "cell_type": "code",
   "execution_count": 2,
   "metadata": {},
   "outputs": [],
   "source": [
    "#adaboost分类器\n",
    "from sklearn.ensemble import AdaBoostClassifier\n",
    "from sklearn.metrics import f1_score, precision_score, recall_score\n",
    "from sklearn.model_selection import train_test_split\n",
    "\n",
    "def adaBoost(X,y,path):\n",
    "    #划分训练集和测试集\n",
    "    X1,Xt,y1,yt=train_test_split(X,y,test_size=0.2)\n",
    "    #adaboost分类器\n",
    "    adaboost=AdaBoostClassifier(n_estimators=100,learning_rate=1.0,algorithm='SAMME.R',random_state=32)\n",
    "    adaboost.fit(X1,y1)\n",
    "    yp=adaboost.predict(Xt)\n",
    "    #得到p，r，f\n",
    "    p= precision_score(yt,yp,average='binary')\n",
    "    r= recall_score(yt, yp, average='binary')\n",
    "    f= f1_score(yt, yp, average='binary')\n",
    "    #保存文件\n",
    "    with open(path, 'a',encoding='utf-8') as f:\n",
    "        f.write('Model,'+'P-score'+','+'R-score'+','+'F-score'+'\\n')\n",
    "        f.write('AdaBoost,'+str(p)+','+str(r)+','+str(f)+'\\n')"
   ]
  },
  {
   "cell_type": "code",
   "execution_count": 3,
   "metadata": {},
   "outputs": [],
   "source": [
    "#运行\n",
    "adaBoost(X_dataset_ID_TC,y_dataset_ID_TC,'../Cost/IDTC.txt')\n",
    "adaBoost(X_dataset_ID_UC,y_dataset_ID_UC,'../Cost/IDUC.txt')\n",
    "adaBoost(X_dataset_TC_CC,y_dataset_TC_CC,'../Cost/TCCC.txt')\n",
    "adaBoost(X_dataset_UC_CC,y_dataset_UC_CC,'../Cost/UCUC.txt')\n",
    "adaBoost(X_dataset_UC_TC,y_dataset_UC_TC,'../Cost/UCTC.txt')\n",
    "adaBoost(X_dataset_iTrust,y_dataset_iTrust,'../Cost/iTrust.txt')\n",
    "adaBoost(X_dataset_SMOS,y_dataset_SMOS,'../Cost/SMOS.txt')"
   ]
  }
 ],
 "metadata": {
  "kernelspec": {
   "display_name": "Python 3",
   "language": "python",
   "name": "python3"
  },
  "language_info": {
   "codemirror_mode": {
    "name": "ipython",
    "version": 3
   },
   "file_extension": ".py",
   "mimetype": "text/x-python",
   "name": "python",
   "nbconvert_exporter": "python",
   "pygments_lexer": "ipython3",
   "version": "3.6.8 (tags/v3.6.8:3c6b436a57, Dec 24 2018, 00:16:47) [MSC v.1916 64 bit (AMD64)]"
  },
  "orig_nbformat": 4,
  "vscode": {
   "interpreter": {
    "hash": "620e10979616b52f04cdcf4a5cffe0fe63efdd1be74bc8cf9c3e328745c0831f"
   }
  }
 },
 "nbformat": 4,
 "nbformat_minor": 2
}
