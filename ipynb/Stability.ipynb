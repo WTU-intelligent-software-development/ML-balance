{
 "cells": [
  {
   "cell_type": "code",
   "execution_count": null,
   "metadata": {},
   "outputs": [],
   "source": [
    "# -*-coding:utf-8-*-\n",
    "# @Time   : 2022/10/19 09:15\n",
    "# @Author : 王梓涵\n",
    "\n",
    "import data_into as dt\n",
    "import Stability as st\n",
    "import data_blance as db\n",
    "\n",
    "#下采样根据5论文里面的结论应该会：提高了召回率。降低了精度"
   ]
  },
  {
   "cell_type": "code",
   "execution_count": null,
   "metadata": {},
   "outputs": [],
   "source": [
    "filepath1='./data/Data_ID_TC.csv'\n",
    "filepath2='./data/Data_ID_UC.csv'\n",
    "filepath3='./data/Data_TC_CC.csv'\n",
    "filepath4='./data/Data_UC_CC.csv'\n",
    "filepath5='./data/Data_UC_TC.csv'\n",
    "\n",
    "filepath6='./data/Data_iTrust.csv'\n",
    "filepath7='./data/Data_SMOS.csv'\n",
    "\n",
    "X_dataset_ID_TC, y_dataset_ID_TC,data_ID_TC = dt.data_into(filepath1)\n",
    "\n",
    "X_dataset_ID_UC, y_dataset_ID_UC,data_ID_UC = dt.data_into(filepath2)\n",
    "\n",
    "X_dataset_TC_CC, y_dataset_TC_CC,data_TC_CC = dt.data_into(filepath3)\n",
    "\n",
    "X_dataset_UC_CC, y_dataset_UC_CC,data_UC_CC = dt.data_into(filepath4)\n",
    "\n",
    "X_dataset_UC_TC, y_dataset_UC_TC,data_UC_TC = dt.data_into(filepath5)\n",
    "\n",
    "#代码制品\n",
    "\n",
    "X_dataset_iTrust, y_dataset_iTrust,data_iTrust = dt.data_into(filepath6)\n",
    "\n",
    "X_dataset_SMOS, y_dataset_SMOS,data_SMOS = dt.data_into(filepath7)\n"
   ]
  },
  {
   "cell_type": "markdown",
   "metadata": {},
   "source": [
    "NONE"
   ]
  },
  {
   "cell_type": "code",
   "execution_count": null,
   "metadata": {},
   "outputs": [],
   "source": [
    "# st.ReportStability('Data_ID_TC',X_dataset_ID_TC,y_dataset_ID_TC,10)\n"
   ]
  },
  {
   "cell_type": "markdown",
   "metadata": {},
   "source": [
    "IDTC"
   ]
  },
  {
   "cell_type": "code",
   "execution_count": null,
   "metadata": {},
   "outputs": [],
   "source": [
    "#欠采样\n",
    "st.ReportStability(\"./stab/RUS/IDTC.csv\",X_dataset_ID_TC, y_dataset_ID_TC,db.undersmapling,15)\n",
    "st.ReportStability(\"./stab/Tomeklink/IDTC.csv\",X_dataset_ID_TC, y_dataset_ID_TC,db.TomekLink,15)\n",
    "st.ReportStability(\"./stab/NearMiss/IDTC.csv\",X_dataset_ID_TC, y_dataset_ID_TC,db.nearmiss,15)\n",
    "#过采样\n",
    "st.ReportStability(\"./stab/ROS/IDTC.csv\",X_dataset_ID_TC, y_dataset_ID_TC,data_ID_TC,db.Randomos,15)\n",
    "st.ReportStability(\"./stab/SMOTE/IDTC.csv\",X_dataset_ID_TC, y_dataset_ID_TC,data_ID_TC,db.smote,15)\n",
    "#综合采样\n",
    "st.ReportStability(\"./stab/Tomeklink/IDTC.csv\",X_dataset_ID_TC, y_dataset_ID_TC,data_ID_TC,db.smotenn,15)\n",
    "st.ReportStability(\"./stab/SMOTETomeklink/IDTC.csv\",X_dataset_ID_TC, y_dataset_ID_TC,data_ID_TC,db.Smote_Tomek,15)"
   ]
  },
  {
   "cell_type": "markdown",
   "metadata": {},
   "source": [
    "IDUC"
   ]
  },
  {
   "cell_type": "code",
   "execution_count": null,
   "metadata": {},
   "outputs": [],
   "source": [
    "#欠采样\n",
    "st.ReportStability(\"./stab/RUS/IDUC.csv\",X_dataset_ID_UC, y_dataset_ID_UC,db.undersmapling,15)\n",
    "st.ReportStability(\"./stab/Tomeklink/IDUC.csv\",X_dataset_ID_UC, y_dataset_ID_UC,db.TomekLink,15)\n",
    "st.ReportStability(\"./stab/NearMiss/IDUC.csv\",X_dataset_ID_UC, y_dataset_ID_UC,db.nearmiss,15)\n",
    "#过采样\n",
    "st.ReportStability(\"./stab/ROS/IDUC.csv\",X_dataset_ID_UC, y_dataset_ID_UC,db.Randomos,15)\n",
    "st.ReportStability(\"./stab/SMOTE/IDUC.csv\",X_dataset_ID_UC, y_dataset_ID_UC,db.smote,15)\n",
    "#综合采样\n",
    "st.ReportStability(\"./stab/Tomeklink/IDUC.csv\",X_dataset_ID_UC, y_dataset_ID_UC,db.smotenn,15)\n",
    "st.ReportStability(\"./stab/SMOTETomeklink/IDUC.csv\",X_dataset_ID_UC, y_dataset_ID_UC,db.Smote_Tomek,15)"
   ]
  },
  {
   "cell_type": "markdown",
   "metadata": {},
   "source": [
    "TCCC"
   ]
  },
  {
   "cell_type": "code",
   "execution_count": null,
   "metadata": {},
   "outputs": [],
   "source": [
    "#欠采样\n",
    "st.ReportStability(\"./stab/RUS/TCCC.csv\",X_dataset_TC_CC, y_dataset_TC_CC,db.undersmapling,15)\n",
    "st.ReportStability(\"./stab/Tomeklink/TCCC.csv\",X_dataset_TC_CC, y_dataset_TC_CC,db.TomekLink,15)\n",
    "st.ReportStability(\"./stab/NearMiss/TCCC.csv\",X_dataset_TC_CC, y_dataset_TC_CC,db.nearmiss,15)\n",
    "#过采样\n",
    "st.ReportStability(\"./stab/ROS/TCCC.csv\",X_dataset_TC_CC, y_dataset_TC_CC,db.Randomos,15)\n",
    "st.ReportStability(\"./stab/SMOTE/TCCC.csv\",X_dataset_TC_CC, y_dataset_TC_CC,db.smote,15)\n",
    "#综合采样\n",
    "st.ReportStability(\"./stab/Tomeklink/TCCC.csv\",X_dataset_TC_CC, y_dataset_TC_CC,db.smotenn,15)\n",
    "st.ReportStability(\"./stab/SMOTETomeklink/TCCC.csv\",X_dataset_TC_CC, y_dataset_TC_CC,db.Smote_Tomek,15)"
   ]
  },
  {
   "cell_type": "markdown",
   "metadata": {},
   "source": [
    "UCCC"
   ]
  },
  {
   "cell_type": "code",
   "execution_count": null,
   "metadata": {},
   "outputs": [],
   "source": [
    "\n",
    "#欠采样\n",
    "st.ReportStability(\"./stab/RUS/UCCC.csv\",X_dataset_UC_CC, y_dataset_UC_CC,db.undersmapling,15)\n",
    "st.ReportStability(\"./stab/Tomeklink/UCCC.csv\",X_dataset_UC_CC, y_dataset_UC_CC,db.TomekLink,15)\n",
    "st.ReportStability(\"./stab/NearMiss/UCCC.csv\",X_dataset_UC_CC, y_dataset_UC_CC,db.nearmiss,15)\n",
    "#过采样\n",
    "st.ReportStability(\"./stab/ROS/UCCC.csv\",X_dataset_UC_CC, y_dataset_UC_CC,db.Randomos,15)\n",
    "st.ReportStability(\"./stab/SMOTE/UCCC.csv\",X_dataset_UC_CC, y_dataset_UC_CC,db.smote,15)\n",
    "#综合采样\n",
    "st.ReportStability(\"./stab/Tomeklink/UCCC.csv\",X_dataset_UC_CC, y_dataset_UC_CC,db.smotenn,15)\n",
    "st.ReportStability(\"./stab/SMOTETomeklink/UCCC.csv\",X_dataset_UC_CC, y_dataset_UC_CC,db.Smote_Tomek,15)"
   ]
  },
  {
   "cell_type": "markdown",
   "metadata": {},
   "source": [
    "UCTC"
   ]
  },
  {
   "cell_type": "code",
   "execution_count": null,
   "metadata": {},
   "outputs": [],
   "source": [
    "\n",
    "\n",
    "\n",
    "#欠采样\n",
    "st.ReportStability(\"./stab/RUS/UCTC.csv\",X_dataset_UC_TC, y_dataset_UC_TC,db.undersmapling,15)\n",
    "st.ReportStability(\"./stab/Tomeklink/UCTC.csv\",X_dataset_UC_TC, y_dataset_UC_TC,db.TomekLink,15)\n",
    "st.ReportStability(\"./stab/NearMiss/UCTC.csv\",X_dataset_UC_TC, y_dataset_UC_TC,db.nearmiss,15)\n",
    "#过采样\n",
    "st.ReportStability(\"./stab/ROS/UCTC.csv\",X_dataset_UC_TC, y_dataset_UC_TC,db.Randomos,15)\n",
    "st.ReportStability(\"./stab/SMOTE/UCTC.csv\",X_dataset_UC_TC, y_dataset_UC_TC,db.smote,15)\n",
    "#综合采样\n",
    "st.ReportStability(\"./stab/Tomeklink/UCTC.csv\",X_dataset_UC_TC, y_dataset_UC_TC,db.smotenn,15)\n",
    "st.ReportStability(\"./stab/SMOTETomeklink/UCTC.csv\",X_dataset_UC_TC, y_dataset_UC_TC,db.Smote_Tomek,15)"
   ]
  },
  {
   "cell_type": "markdown",
   "metadata": {},
   "source": [
    "iTrust"
   ]
  },
  {
   "cell_type": "code",
   "execution_count": null,
   "metadata": {},
   "outputs": [],
   "source": [
    "#欠采样\n",
    "st.ReportStability(\"./stab/RUS/iTrust.csv\",X_dataset_iTrust, y_dataset_iTrust,db.undersmapling,15)\n",
    "st.ReportStability(\"./stab/Tomeklink/iTrust.csv\",X_dataset_iTrust, y_dataset_iTrust,db.TomekLink,15)\n",
    "st.ReportStability(\"./stab/NearMiss/iTrust.csv\",X_dataset_iTrust, y_dataset_iTrust,db.nearmiss,15)\n",
    "#过采样\n",
    "st.ReportStability(\"./stab/ROS/iTrust.csv\",X_dataset_iTrust, y_dataset_iTrust,db.Randomos,15)\n",
    "st.ReportStability(\"./stab/SMOTE/iTrust.csv\",X_dataset_iTrust, y_dataset_iTrust,db.smote,15)\n",
    "#综合采样\n",
    "st.ReportStability(\"./stab/Tomeklink/iTrust.csv\",X_dataset_iTrust, y_dataset_iTrust,db.smotenn,15)\n",
    "st.ReportStability(\"./stab/SMOTETomeklink/iTrust.csv\",X_dataset_iTrust, y_dataset_iTrust,db.Smote_Tomek,15)"
   ]
  },
  {
   "cell_type": "markdown",
   "metadata": {},
   "source": [
    "SMOS"
   ]
  },
  {
   "cell_type": "code",
   "execution_count": null,
   "metadata": {},
   "outputs": [],
   "source": [
    "#欠采样\n",
    "st.ReportStability(\"./stab/RUS/SMOS.csv\",X_dataset_SMOS, y_dataset_SMOS,db.undersmapling,15)\n",
    "st.ReportStability(\"./stab/Tomeklink/SMOS.csv\",X_dataset_SMOS, y_dataset_SMOS,db.TomekLink,15)\n",
    "st.ReportStability(\"./stab/NearMiss/SMOS.csv\",X_dataset_SMOS, y_dataset_SMOS,db.nearmiss,15)\n",
    "#过采样\n",
    "st.ReportStability(\"./stab/ROS/SMOS.csv\",X_dataset_SMOS, y_dataset_SMOS,db.Randomos,15)\n",
    "st.ReportStability(\"./stab/SMOTE/SMOS.csv\",X_dataset_SMOS, y_dataset_SMOS,db.smote,15)\n",
    "#综合采样\n",
    "st.ReportStability(\"./stab/Tomeklink/SMOS.csv\",X_dataset_SMOS, y_dataset_SMOS,db.smotenn,15)\n",
    "st.ReportStability(\"./stab/SMOTETomeklink/SMOS.csv\",X_dataset_SMOS, y_dataset_SMOS,db.Smote_Tomek,15)"
   ]
  }
 ],
 "metadata": {
  "kernelspec": {
   "display_name": "Python 3.6.8 64-bit",
   "language": "python",
   "name": "python3"
  },
  "language_info": {
   "codemirror_mode": {
    "name": "ipython",
    "version": 3
   },
   "file_extension": ".py",
   "mimetype": "text/x-python",
   "name": "python",
   "nbconvert_exporter": "python",
   "pygments_lexer": "ipython3",
   "version": "3.6.8"
  },
  "orig_nbformat": 4,
  "vscode": {
   "interpreter": {
    "hash": "620e10979616b52f04cdcf4a5cffe0fe63efdd1be74bc8cf9c3e328745c0831f"
   }
  }
 },
 "nbformat": 4,
 "nbformat_minor": 2
}
