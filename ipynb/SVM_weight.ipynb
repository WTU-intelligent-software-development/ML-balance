{
 "cells": [
  {
   "cell_type": "code",
   "execution_count": 7,
   "metadata": {},
   "outputs": [],
   "source": [
    "# -*-coding:utf-8-*-\n",
    "# @Time   : 2022/10/17 10:10\n",
    "# @Author : 王梓涵\n",
    "from sklearn import svm\n",
    "\n",
    "from sklearn.metrics import classification_report "
   ]
  },
  {
   "cell_type": "code",
   "execution_count": 8,
   "metadata": {},
   "outputs": [],
   "source": [
    "import data_into\n",
    "import data_blance\n",
    "import Classfier\n",
    "import ROC_PR"
   ]
  },
  {
   "cell_type": "code",
   "execution_count": 9,
   "metadata": {},
   "outputs": [
    {
     "name": "stdout",
     "output_type": "stream",
     "text": [
      "Raw X data statistics:\n",
      "Counter({0: 1, 1: 1, 2: 1, 3: 1, 4: 1, 5: 1, 6: 1, 7: 1, 8: 1, 9: 1})\n",
      "Raw X data statistics:\n",
      "Counter({0: 1, 1: 1, 2: 1, 3: 1, 4: 1, 5: 1, 6: 1, 7: 1, 8: 1, 9: 1})\n",
      "Raw X data statistics:\n",
      "Counter({0: 1, 1: 1, 2: 1, 3: 1, 4: 1, 5: 1, 6: 1, 7: 1, 8: 1, 9: 1})\n",
      "Raw X data statistics:\n",
      "Counter({0: 1, 1: 1, 2: 1, 3: 1, 4: 1, 5: 1, 6: 1, 7: 1, 8: 1, 9: 1})\n",
      "Raw X data statistics:\n",
      "Counter({0: 1, 1: 1, 2: 1, 3: 1, 4: 1, 5: 1, 6: 1, 7: 1, 8: 1, 9: 1})\n",
      "Raw X data statistics:\n",
      "Counter({0: 1, 1: 1, 2: 1, 3: 1, 4: 1, 5: 1, 6: 1, 7: 1, 8: 1, 9: 1})\n",
      "Raw X data statistics:\n",
      "Counter({0: 1, 1: 1, 2: 1, 3: 1, 4: 1, 5: 1, 6: 1, 7: 1, 8: 1, 9: 1})\n",
      "(29606, 10)\n",
      "(6566, 10)\n"
     ]
    }
   ],
   "source": [
    "filepath1='./data/Data_ID_TC.csv'\n",
    "filepath2='./data/Data_ID_UC.csv'\n",
    "filepath3='./data/Data_TC_CC.csv'\n",
    "filepath4='./data/Data_UC_CC.csv'\n",
    "filepath5='./data/Data_UC_TC.csv'\n",
    "\n",
    "filepath6='./data/Data_iTrust.csv'\n",
    "filepath7='./data/Data_SMOS.csv'\n",
    "\n",
    "X_dataset_ID_TC, y_dataset_ID_TC,data_ID_TC = data_into.data_into(filepath1)\n",
    "\n",
    "X_dataset_ID_UC, y_dataset_ID_UC,data_ID_UC = data_into.data_into(filepath2)\n",
    "\n",
    "X_dataset_TC_CC, y_dataset_TC_CC,data_TC_CC = data_into.data_into(filepath3)\n",
    "\n",
    "X_dataset_UC_CC, y_dataset_UC_CC,data_UC_CC = data_into.data_into(filepath4)\n",
    "\n",
    "X_dataset_UC_TC, y_dataset_UC_TC,data_UC_TC = data_into.data_into(filepath5)\n",
    "\n",
    "#代码制品\n",
    "\n",
    "X_dataset_iTrust, y_dataset_iTrust,data_iTrust = data_into.data_into(filepath6)\n",
    "\n",
    "X_dataset_SMOS, y_dataset_SMOS,data_SMOS = data_into.data_into(filepath7)\n",
    "\n",
    "print(X_dataset_iTrust.shape)\n",
    "print(X_dataset_SMOS.shape)\n"
   ]
  },
  {
   "cell_type": "code",
   "execution_count": 10,
   "metadata": {},
   "outputs": [],
   "source": [
    "X_dataset_ID_TC1, y_dataset_ID_TC1,X_test_idtc,y_test_idtc=Classfier.trainsplit(X_dataset_ID_TC, y_dataset_ID_TC)\n",
    "X_dataset_ID_UC1, y_dataset_ID_UC1,X_test_iduc,y_test_iduc=Classfier.trainsplit(X_dataset_ID_UC, y_dataset_ID_UC)\n",
    "X_dataset_TC_CC1, y_dataset_TC_CC1,X_test_tccc,y_test_tccc=Classfier.trainsplit(X_dataset_TC_CC, y_dataset_TC_CC)\n",
    "X_dataset_UC_CC1, y_dataset_UC_CC1,X_test_uccc,y_test_uccc=Classfier.trainsplit(X_dataset_UC_CC, y_dataset_UC_CC)\n",
    "X_dataset_UC_TC1, y_dataset_UC_TC1,X_test_uctc,y_test_uctc=Classfier.trainsplit(X_dataset_UC_TC, y_dataset_UC_TC)\n",
    "\n",
    "X_dataset_iTrust1, y_dataset_iTrust1,X_test_iTrust,y_test_iTrust=Classfier.trainsplit(X_dataset_iTrust, y_dataset_iTrust)\n",
    "X_dataset_SMOS1, y_dataset_SMOS1,X_test_SMOS,y_test_SMOS=Classfier.trainsplit(X_dataset_SMOS, y_dataset_SMOS)"
   ]
  },
  {
   "cell_type": "code",
   "execution_count": 11,
   "metadata": {},
   "outputs": [],
   "source": [
    "#SVM,输入数据集\n",
    "def SVM(X_train, y_train,X_test,y_test):\n",
    "   # X_train,X_test,y_train,y_test = train_test_split(X_dataset, y_dataset, test_size=0.1, random_state=33)\n",
    "    # 分类器\n",
    "    clf = svm.SVC(kernel=\"linear\",probability=True,class_weight=\"balanced\")   # 参数kernel为线性核函数\n",
    "    clf.fit(X_train, y_train)  # 训练分类器\n",
    "    print(\"Support Vector：\\n\", clf.n_support_)  # 每一类中属于支持向量的点数目\n",
    "    y_pred_SVM = clf.predict(X_test)\n",
    "    score = clf.score(X_test, y_test)  # 模型得分\n",
    "    print(\"Score：\", score)\n",
    "    y_score_SVM = clf.predict_proba(X_test)[:,1]\n",
    "    print(classification_report(y_test, y_pred_SVM))\n",
    "    y_test_SVM=y_test\n",
    "    return y_pred_SVM,y_score_SVM,y_test_SVM\n",
    "\n"
   ]
  },
  {
   "cell_type": "code",
   "execution_count": 12,
   "metadata": {},
   "outputs": [
    {
     "name": "stdout",
     "output_type": "stream",
     "text": [
      "Support Vector：\n",
      " [80 77]\n",
      "Score： 0.9603174603174603\n",
      "              precision    recall  f1-score   support\n",
      "\n",
      "           0       0.98      0.98      0.98       122\n",
      "           1       0.33      0.25      0.29         4\n",
      "\n",
      "    accuracy                           0.96       126\n",
      "   macro avg       0.65      0.62      0.63       126\n",
      "weighted avg       0.96      0.96      0.96       126\n",
      "\n",
      "Support Vector：\n",
      " [26 23]\n",
      "Score： 0.95\n",
      "              precision    recall  f1-score   support\n",
      "\n",
      "           0       0.95      1.00      0.97        57\n",
      "           1       0.00      0.00      0.00         3\n",
      "\n",
      "    accuracy                           0.95        60\n",
      "   macro avg       0.47      0.50      0.49        60\n",
      "weighted avg       0.90      0.95      0.93        60\n",
      "\n",
      "Support Vector：\n",
      " [189 185]\n",
      "Score： 0.936026936026936\n",
      "              precision    recall  f1-score   support\n",
      "\n",
      "           0       0.94      1.00      0.97       278\n",
      "           1       0.00      0.00      0.00        19\n",
      "\n",
      "    accuracy                           0.94       297\n",
      "   macro avg       0.47      0.50      0.48       297\n",
      "weighted avg       0.88      0.94      0.91       297\n",
      "\n"
     ]
    },
    {
     "name": "stderr",
     "output_type": "stream",
     "text": [
      "c:\\Users\\wangzihan\\AppData\\Local\\Programs\\Python\\Python36\\lib\\site-packages\\sklearn\\metrics\\_classification.py:1248: UndefinedMetricWarning: Precision and F-score are ill-defined and being set to 0.0 in labels with no predicted samples. Use `zero_division` parameter to control this behavior.\n",
      "  _warn_prf(average, modifier, msg_start, len(result))\n",
      "c:\\Users\\wangzihan\\AppData\\Local\\Programs\\Python\\Python36\\lib\\site-packages\\sklearn\\metrics\\_classification.py:1248: UndefinedMetricWarning: Precision and F-score are ill-defined and being set to 0.0 in labels with no predicted samples. Use `zero_division` parameter to control this behavior.\n",
      "  _warn_prf(average, modifier, msg_start, len(result))\n",
      "c:\\Users\\wangzihan\\AppData\\Local\\Programs\\Python\\Python36\\lib\\site-packages\\sklearn\\metrics\\_classification.py:1248: UndefinedMetricWarning: Precision and F-score are ill-defined and being set to 0.0 in labels with no predicted samples. Use `zero_division` parameter to control this behavior.\n",
      "  _warn_prf(average, modifier, msg_start, len(result))\n",
      "c:\\Users\\wangzihan\\AppData\\Local\\Programs\\Python\\Python36\\lib\\site-packages\\sklearn\\metrics\\_classification.py:1248: UndefinedMetricWarning: Precision and F-score are ill-defined and being set to 0.0 in labels with no predicted samples. Use `zero_division` parameter to control this behavior.\n",
      "  _warn_prf(average, modifier, msg_start, len(result))\n",
      "c:\\Users\\wangzihan\\AppData\\Local\\Programs\\Python\\Python36\\lib\\site-packages\\sklearn\\metrics\\_classification.py:1248: UndefinedMetricWarning: Precision and F-score are ill-defined and being set to 0.0 in labels with no predicted samples. Use `zero_division` parameter to control this behavior.\n",
      "  _warn_prf(average, modifier, msg_start, len(result))\n",
      "c:\\Users\\wangzihan\\AppData\\Local\\Programs\\Python\\Python36\\lib\\site-packages\\sklearn\\metrics\\_classification.py:1248: UndefinedMetricWarning: Precision and F-score are ill-defined and being set to 0.0 in labels with no predicted samples. Use `zero_division` parameter to control this behavior.\n",
      "  _warn_prf(average, modifier, msg_start, len(result))\n"
     ]
    },
    {
     "name": "stdout",
     "output_type": "stream",
     "text": [
      "Support Vector：\n",
      " [81 78]\n",
      "Score： 0.9716312056737588\n",
      "              precision    recall  f1-score   support\n",
      "\n",
      "           0       0.97      1.00      0.99       133\n",
      "           1       1.00      0.50      0.67         8\n",
      "\n",
      "    accuracy                           0.97       141\n",
      "   macro avg       0.99      0.75      0.83       141\n",
      "weighted avg       0.97      0.97      0.97       141\n",
      "\n",
      "Support Vector：\n",
      " [62 58]\n",
      "Score： 0.9735449735449735\n",
      "              precision    recall  f1-score   support\n",
      "\n",
      "           0       0.97      1.00      0.99       184\n",
      "           1       0.00      0.00      0.00         5\n",
      "\n",
      "    accuracy                           0.97       189\n",
      "   macro avg       0.49      0.50      0.49       189\n",
      "weighted avg       0.95      0.97      0.96       189\n",
      "\n"
     ]
    },
    {
     "name": "stderr",
     "output_type": "stream",
     "text": [
      "c:\\Users\\wangzihan\\AppData\\Local\\Programs\\Python\\Python36\\lib\\site-packages\\sklearn\\metrics\\_classification.py:1248: UndefinedMetricWarning: Precision and F-score are ill-defined and being set to 0.0 in labels with no predicted samples. Use `zero_division` parameter to control this behavior.\n",
      "  _warn_prf(average, modifier, msg_start, len(result))\n",
      "c:\\Users\\wangzihan\\AppData\\Local\\Programs\\Python\\Python36\\lib\\site-packages\\sklearn\\metrics\\_classification.py:1248: UndefinedMetricWarning: Precision and F-score are ill-defined and being set to 0.0 in labels with no predicted samples. Use `zero_division` parameter to control this behavior.\n",
      "  _warn_prf(average, modifier, msg_start, len(result))\n",
      "c:\\Users\\wangzihan\\AppData\\Local\\Programs\\Python\\Python36\\lib\\site-packages\\sklearn\\metrics\\_classification.py:1248: UndefinedMetricWarning: Precision and F-score are ill-defined and being set to 0.0 in labels with no predicted samples. Use `zero_division` parameter to control this behavior.\n",
      "  _warn_prf(average, modifier, msg_start, len(result))\n"
     ]
    },
    {
     "name": "stdout",
     "output_type": "stream",
     "text": [
      "Support Vector：\n",
      " [306 286]\n",
      "Score： 0.9918946301925026\n",
      "              precision    recall  f1-score   support\n",
      "\n",
      "           0       0.99      1.00      1.00      2937\n",
      "           1       0.00      0.00      0.00        24\n",
      "\n",
      "    accuracy                           0.99      2961\n",
      "   macro avg       0.50      0.50      0.50      2961\n",
      "weighted avg       0.98      0.99      0.99      2961\n",
      "\n"
     ]
    },
    {
     "name": "stderr",
     "output_type": "stream",
     "text": [
      "c:\\Users\\wangzihan\\AppData\\Local\\Programs\\Python\\Python36\\lib\\site-packages\\sklearn\\metrics\\_classification.py:1248: UndefinedMetricWarning: Precision and F-score are ill-defined and being set to 0.0 in labels with no predicted samples. Use `zero_division` parameter to control this behavior.\n",
      "  _warn_prf(average, modifier, msg_start, len(result))\n",
      "c:\\Users\\wangzihan\\AppData\\Local\\Programs\\Python\\Python36\\lib\\site-packages\\sklearn\\metrics\\_classification.py:1248: UndefinedMetricWarning: Precision and F-score are ill-defined and being set to 0.0 in labels with no predicted samples. Use `zero_division` parameter to control this behavior.\n",
      "  _warn_prf(average, modifier, msg_start, len(result))\n",
      "c:\\Users\\wangzihan\\AppData\\Local\\Programs\\Python\\Python36\\lib\\site-packages\\sklearn\\metrics\\_classification.py:1248: UndefinedMetricWarning: Precision and F-score are ill-defined and being set to 0.0 in labels with no predicted samples. Use `zero_division` parameter to control this behavior.\n",
      "  _warn_prf(average, modifier, msg_start, len(result))\n"
     ]
    },
    {
     "name": "stdout",
     "output_type": "stream",
     "text": [
      "Support Vector：\n",
      " [1055 1027]\n",
      "Score： 0.8097412480974124\n",
      "              precision    recall  f1-score   support\n",
      "\n",
      "           0       0.81      1.00      0.89       532\n",
      "           1       0.00      0.00      0.00       125\n",
      "\n",
      "    accuracy                           0.81       657\n",
      "   macro avg       0.40      0.50      0.45       657\n",
      "weighted avg       0.66      0.81      0.72       657\n",
      "\n"
     ]
    },
    {
     "name": "stderr",
     "output_type": "stream",
     "text": [
      "c:\\Users\\wangzihan\\AppData\\Local\\Programs\\Python\\Python36\\lib\\site-packages\\sklearn\\metrics\\_classification.py:1248: UndefinedMetricWarning: Precision and F-score are ill-defined and being set to 0.0 in labels with no predicted samples. Use `zero_division` parameter to control this behavior.\n",
      "  _warn_prf(average, modifier, msg_start, len(result))\n",
      "c:\\Users\\wangzihan\\AppData\\Local\\Programs\\Python\\Python36\\lib\\site-packages\\sklearn\\metrics\\_classification.py:1248: UndefinedMetricWarning: Precision and F-score are ill-defined and being set to 0.0 in labels with no predicted samples. Use `zero_division` parameter to control this behavior.\n",
      "  _warn_prf(average, modifier, msg_start, len(result))\n",
      "c:\\Users\\wangzihan\\AppData\\Local\\Programs\\Python\\Python36\\lib\\site-packages\\sklearn\\metrics\\_classification.py:1248: UndefinedMetricWarning: Precision and F-score are ill-defined and being set to 0.0 in labels with no predicted samples. Use `zero_division` parameter to control this behavior.\n",
      "  _warn_prf(average, modifier, msg_start, len(result))\n"
     ]
    }
   ],
   "source": [
    "y_pred_svm_idtc,y_score_svm_idtc,y_test_svm_idtc=Classfier.SVM(X_dataset_ID_TC1, y_dataset_ID_TC1,X_test_idtc,y_test_idtc)\n",
    "\n",
    "y_pred_svm_iduc,y_score_svm_iduc,y_test_svm_iduc=Classfier.SVM(X_dataset_ID_UC1, y_dataset_ID_UC1,X_test_iduc,y_test_iduc)\n",
    "\n",
    "y_pred_svm_tccc,y_score_svm_tccc,y_test_svm_tccc=Classfier.SVM(X_dataset_TC_CC1, y_dataset_TC_CC1,X_test_tccc,y_test_tccc)\n",
    "\n",
    "y_pred_svm_uccc,y_score_svm_uccc,y_test_svm_uccc=Classfier.SVM(X_dataset_UC_CC1, y_dataset_UC_CC1,X_test_uccc,y_test_uccc)\n",
    "\n",
    "y_pred_svm_uctc,y_score_svm_uctc,y_test_svm_uctc=Classfier.SVM(X_dataset_UC_TC1, y_dataset_UC_TC1,X_test_uctc,y_test_uctc)\n",
    "\n",
    "y_pred_svm_iTrust,y_score_svm_iTrust,y_test_svm_iTrust=Classfier.SVM(X_dataset_iTrust, y_dataset_iTrust,X_test_iTrust,y_test_iTrust)\n",
    "\n",
    "y_pred_svm_SMOS,y_score_svm_SMOS,y_test_svm_SMOS=Classfier.SVM(X_dataset_SMOS, y_dataset_SMOS,X_test_SMOS,y_test_SMOS)"
   ]
  },
  {
   "cell_type": "code",
   "execution_count": 13,
   "metadata": {},
   "outputs": [],
   "source": [
    "# y_pred_svm_idtc,y_score_svm_idtc,y_test_svm_idtc=SVM(X_dataset_ID_TC1, y_dataset_ID_TC1,X_test_idtc,y_test_idtc)\n",
    "\n",
    "# y_pred_svm_iduc,y_score_svm_iduc,y_test_svm_iduc=SVM(X_dataset_ID_UC1, y_dataset_ID_UC1,X_test_iduc,y_test_iduc)\n",
    "\n",
    "# y_pred_svm_tccc,y_score_svm_tccc,y_test_svm_tccc=SVM(X_dataset_TC_CC1, y_dataset_TC_CC1,X_test_tccc,y_test_tccc)\n",
    "\n",
    "# y_pred_svm_uccc,y_score_svm_uccc,y_test_svm_uccc=SVM(X_dataset_UC_CC1, y_dataset_UC_CC1,X_test_uccc,y_test_uccc)\n",
    "\n",
    "# y_pred_svm_uctc,y_score_svm_uctc,y_test_svm_uctc=SVM(X_dataset_UC_TC1, y_dataset_UC_TC1,X_test_uctc,y_test_uctc)\n",
    "\n",
    "# y_pred_svm_iTrust,y_score_svm_iTrust,y_test_svm_iTrust=SVM(X_dataset_iTrust, y_dataset_iTrust,X_test_iTrust,y_test_iTrust)\n",
    "\n",
    "# y_pred_svm_SMOS,y_score_svm_SMOS,y_test_svm_SMOS=SVM(X_dataset_SMOS, y_dataset_SMOS,X_test_SMOS,y_test_SMOS)"
   ]
  }
 ],
 "metadata": {
  "kernelspec": {
   "display_name": "Python 3.6.8 64-bit",
   "language": "python",
   "name": "python3"
  },
  "language_info": {
   "codemirror_mode": {
    "name": "ipython",
    "version": 3
   },
   "file_extension": ".py",
   "mimetype": "text/x-python",
   "name": "python",
   "nbconvert_exporter": "python",
   "pygments_lexer": "ipython3",
   "version": "3.6.8"
  },
  "orig_nbformat": 4,
  "vscode": {
   "interpreter": {
    "hash": "620e10979616b52f04cdcf4a5cffe0fe63efdd1be74bc8cf9c3e328745c0831f"
   }
  }
 },
 "nbformat": 4,
 "nbformat_minor": 2
}
