{
 "cells": [
  {
   "cell_type": "code",
   "execution_count": 1,
   "metadata": {},
   "outputs": [],
   "source": [
    "# -*-coding:utf-8-*-\n",
    "# @Time   : 2022/10/21 10:10\n",
    "# @Author : 王梓涵"
   ]
  },
  {
   "cell_type": "code",
   "execution_count": 2,
   "metadata": {},
   "outputs": [],
   "source": [
    "import data_into\n",
    "import data_blance\n",
    "import Classfier\n",
    "import ROC_PR"
   ]
  },
  {
   "cell_type": "code",
   "execution_count": 3,
   "metadata": {},
   "outputs": [
    {
     "name": "stdout",
     "output_type": "stream",
     "text": [
      "Raw X data statistics:\n",
      "Counter({0: 1, 1: 1, 2: 1, 3: 1, 4: 1, 5: 1, 6: 1, 7: 1, 8: 1, 9: 1})\n",
      "Raw X data statistics:\n",
      "Counter({0: 1, 1: 1, 2: 1, 3: 1, 4: 1, 5: 1, 6: 1, 7: 1, 8: 1, 9: 1})\n",
      "Raw X data statistics:\n",
      "Counter({0: 1, 1: 1, 2: 1, 3: 1, 4: 1, 5: 1, 6: 1, 7: 1, 8: 1, 9: 1})\n",
      "Raw X data statistics:\n",
      "Counter({0: 1, 1: 1, 2: 1, 3: 1, 4: 1, 5: 1, 6: 1, 7: 1, 8: 1, 9: 1})\n",
      "Raw X data statistics:\n",
      "Counter({0: 1, 1: 1, 2: 1, 3: 1, 4: 1, 5: 1, 6: 1, 7: 1, 8: 1, 9: 1})\n",
      "Raw X data statistics:\n",
      "Counter({0: 1, 1: 1, 2: 1, 3: 1, 4: 1, 5: 1, 6: 1, 7: 1, 8: 1, 9: 1})\n",
      "Raw X data statistics:\n",
      "Counter({0: 1, 1: 1, 2: 1, 3: 1, 4: 1, 5: 1, 6: 1, 7: 1, 8: 1, 9: 1})\n"
     ]
    }
   ],
   "source": [
    "filepath1='./data/Data_ID_TC.csv'\n",
    "filepath2='./data/Data_ID_UC.csv'\n",
    "filepath3='./data/Data_TC_CC.csv'\n",
    "filepath4='./data/Data_UC_CC.csv'\n",
    "filepath5='./data/Data_UC_TC.csv'\n",
    "\n",
    "filepath6='./data/Data_iTrust.csv'\n",
    "filepath7='./data/Data_SMOS.csv'\n",
    "\n",
    "X_dataset_ID_TC, y_dataset_ID_TC,data_ID_TC = data_into.data_into(filepath1)\n",
    "\n",
    "X_dataset_ID_UC, y_dataset_ID_UC,data_ID_UC = data_into.data_into(filepath2)\n",
    "\n",
    "X_dataset_TC_CC, y_dataset_TC_CC,data_TC_CC = data_into.data_into(filepath3)\n",
    "\n",
    "X_dataset_UC_CC, y_dataset_UC_CC,data_UC_CC = data_into.data_into(filepath4)\n",
    "\n",
    "X_dataset_UC_TC, y_dataset_UC_TC,data_UC_TC = data_into.data_into(filepath5)\n",
    "\n",
    "#代码制品\n",
    "\n",
    "X_dataset_iTrust, y_dataset_iTrust,data_iTrust = data_into.data_into(filepath6)\n",
    "\n",
    "X_dataset_SMOS, y_dataset_SMOS,data_SMOS = data_into.data_into(filepath7)\n"
   ]
  },
  {
   "cell_type": "code",
   "execution_count": 4,
   "metadata": {},
   "outputs": [],
   "source": [
    "#先划分后平衡\n",
    "X_dataset_ID_TC1, y_dataset_ID_TC1,X_test_idtc,y_test_idtc=Classfier.trainsplit(X_dataset_ID_TC, y_dataset_ID_TC)\n",
    "X_dataset_ID_UC1, y_dataset_ID_UC1,X_test_iduc,y_test_iduc=Classfier.trainsplit(X_dataset_ID_UC, y_dataset_ID_UC)\n",
    "X_dataset_TC_CC1, y_dataset_TC_CC1,X_test_tccc,y_test_tccc=Classfier.trainsplit(X_dataset_TC_CC, y_dataset_TC_CC)\n",
    "X_dataset_UC_CC1, y_dataset_UC_CC1,X_test_uccc,y_test_uccc=Classfier.trainsplit(X_dataset_UC_CC, y_dataset_UC_CC)\n",
    "X_dataset_UC_TC1, y_dataset_UC_TC1,X_test_uctc,y_test_uctc=Classfier.trainsplit(X_dataset_UC_TC, y_dataset_UC_TC)\n",
    "\n",
    "X_dataset_iTrust1, y_dataset_iTrust1,X_test_iTrust,y_test_iTrust=Classfier.trainsplit(X_dataset_iTrust, y_dataset_iTrust)\n",
    "\n",
    "X_dataset_SMOS1, y_dataset_SMOS1,X_test_SMOS,y_test_SMOS=Classfier.trainsplit(X_dataset_SMOS, y_dataset_SMOS)"
   ]
  },
  {
   "cell_type": "code",
   "execution_count": 5,
   "metadata": {},
   "outputs": [
    {
     "name": "stdout",
     "output_type": "stream",
     "text": [
      "After RandomOverSampler X data statistics:\n",
      "Counter({0: 1055, 1: 1055})\n",
      "After RandomOverSampler X data statistics:\n",
      "Counter({0: 517, 1: 517})\n",
      "After RandomOverSampler X data statistics:\n",
      "Counter({0: 2479, 1: 2479})\n",
      "After RandomOverSampler X data statistics:\n",
      "Counter({0: 1184, 1: 1184})\n",
      "After RandomOverSampler X data statistics:\n",
      "Counter({0: 1643, 1: 1643})\n",
      "After RandomOverSampler X data statistics:\n",
      "Counter({0: 29320, 1: 29320})\n",
      "After RandomOverSampler X data statistics:\n",
      "Counter({0: 5539, 1: 5539})\n"
     ]
    }
   ],
   "source": [
    "#ID_TC的Randomos平衡\n",
    "X1,y1=data_blance.Randomos(X_dataset_ID_TC1, y_dataset_ID_TC1)\n",
    "\n",
    "#ID_UC的Randomos平衡\n",
    "X2,y2=data_blance.Randomos(X_dataset_ID_UC1, y_dataset_ID_UC1)\n",
    "\n",
    "#TC_CC的Randomos平衡\n",
    "X3,y3=data_blance.Randomos(X_dataset_TC_CC1, y_dataset_TC_CC1)\n",
    "\n",
    "#UC_CC的Randomos平衡\n",
    "X4,y4=data_blance.Randomos(X_dataset_UC_CC1, y_dataset_UC_CC1)\n",
    "\n",
    "#UC_TC的Randomos平衡\n",
    "X5,y5=data_blance.Randomos(X_dataset_UC_TC1, y_dataset_UC_TC1)\n",
    "\n",
    "#iTrust的Randomos平衡\n",
    "\n",
    "X6,y6=data_blance.Randomos(X_dataset_iTrust, y_dataset_iTrust)\n",
    "\n",
    "#SMOS的Randomos平衡\n",
    "\n",
    "X7,y7=data_blance.Randomos(X_dataset_SMOS, y_dataset_SMOS)\n",
    "\n",
    "\n"
   ]
  },
  {
   "cell_type": "code",
   "execution_count": 6,
   "metadata": {},
   "outputs": [
    {
     "name": "stdout",
     "output_type": "stream",
     "text": [
      "Score： 0.7929984779299848\n",
      "              precision    recall  f1-score   support\n",
      "\n",
      "           0       1.00      0.75      0.85       532\n",
      "           1       0.48      0.99      0.65       125\n",
      "\n",
      "    accuracy                           0.79       657\n",
      "   macro avg       0.74      0.87      0.75       657\n",
      "weighted avg       0.90      0.79      0.81       657\n",
      "\n"
     ]
    },
    {
     "name": "stderr",
     "output_type": "stream",
     "text": [
      "[Parallel(n_jobs=1)]: Using backend SequentialBackend with 1 concurrent workers.\n",
      "[Parallel(n_jobs=1)]: Done 100 out of 100 | elapsed:    3.2s finished\n",
      "[Parallel(n_jobs=1)]: Using backend SequentialBackend with 1 concurrent workers.\n",
      "[Parallel(n_jobs=1)]: Done 100 out of 100 | elapsed:    0.0s finished\n",
      "[Parallel(n_jobs=1)]: Using backend SequentialBackend with 1 concurrent workers.\n",
      "[Parallel(n_jobs=1)]: Done 100 out of 100 | elapsed:    0.0s finished\n",
      "[Parallel(n_jobs=1)]: Using backend SequentialBackend with 1 concurrent workers.\n",
      "[Parallel(n_jobs=1)]: Done 100 out of 100 | elapsed:    0.0s finished\n"
     ]
    },
    {
     "name": "stdout",
     "output_type": "stream",
     "text": [
      "Score： 1.0\n",
      "              precision    recall  f1-score   support\n",
      "\n",
      "           0       1.00      1.00      1.00       532\n",
      "           1       1.00      1.00      1.00       125\n",
      "\n",
      "    accuracy                           1.00       657\n",
      "   macro avg       1.00      1.00      1.00       657\n",
      "weighted avg       1.00      1.00      1.00       657\n",
      "\n",
      "Score： 1.0\n",
      "              precision    recall  f1-score   support\n",
      "\n",
      "           0       1.00      1.00      1.00       532\n",
      "           1       1.00      1.00      1.00       125\n",
      "\n",
      "    accuracy                           1.00       657\n",
      "   macro avg       1.00      1.00      1.00       657\n",
      "weighted avg       1.00      1.00      1.00       657\n",
      "\n"
     ]
    },
    {
     "data": {
      "image/png": "[encoded data removed]",
      "text/plain": [
       "<Figure size 432x288 with 1 Axes>"
      ]
     },
     "metadata": {
      "needs_background": "light"
     },
     "output_type": "display_data"
    },
    {
     "name": "stdout",
     "output_type": "stream",
     "text": [
      "              precision    recall  f1-score   support\n",
      "\n",
      "           0       0.50      0.84      0.63      5539\n",
      "           1       0.52      0.17      0.26      5539\n",
      "\n",
      "    accuracy                           0.51     11078\n",
      "   macro avg       0.51      0.51      0.44     11078\n",
      "weighted avg       0.51      0.51      0.44     11078\n",
      "\n",
      "Score： 0.5920852359208524\n",
      "              precision    recall  f1-score   support\n",
      "\n",
      "           0       0.82      0.64      0.72       532\n",
      "           1       0.20      0.39      0.27       125\n",
      "\n",
      "    accuracy                           0.59       657\n",
      "   macro avg       0.51      0.52      0.49       657\n",
      "weighted avg       0.70      0.59      0.63       657\n",
      "\n",
      "Score： 0.745814307458143\n",
      "              precision    recall  f1-score   support\n",
      "\n",
      "           0       0.83      0.87      0.85       532\n",
      "           1       0.29      0.23      0.26       125\n",
      "\n",
      "    accuracy                           0.75       657\n",
      "   macro avg       0.56      0.55      0.55       657\n",
      "weighted avg       0.73      0.75      0.73       657\n",
      "\n"
     ]
    }
   ],
   "source": [
    "#ID_TC训练\n",
    "\n",
    "# y_pred_KNN_idtc,y_pred_proba_KNN_idtc,_=Classfier.KNN(X1,y1,X_test_idtc,y_test_idtc,5)\n",
    "\n",
    "# y_pred_RF_idtc,y_pred_proba_RF_idtc,_=Classfier.RF(X1,y1,X_test_idtc,y_test_idtc)\n",
    "\n",
    "# y_pred_DT_idtc,y_pred_proba_DT_idtc,_=Classfier.DT(X1,y1,X_test_idtc,y_test_idtc)\n",
    "\n",
    "# y_pred_Kmeans_idtc=Classfier.Kmeans(X1,y1)\n",
    "\n",
    "# y_pred_LR_idtc,y_pred_proba_LR_idtc,_=Classfier.LR(X1,y1,X_test_idtc,y_test_idtc)\n",
    "\n",
    "# y_pred_Gbayes_idtc,y_pred_proba_Gbayes_idtc,_=Classfier.gbayes(X1,y1,X_test_idtc,y_test_idtc)\n",
    "\n",
    "\n",
    "\n",
    "\n",
    "#ID_UC训练\n",
    "\n",
    "# y_pred_KNN_iduc,y_pred_proba_KNN_iduc,_=Classfier.KNN(X2,y2,X_test_iduc,y_test_iduc,5)\n",
    "\n",
    "# y_pred_RF_iduc,y_pred_proba_RF_iduc,_=Classfier.RF(X2,y2,X_test_iduc,y_test_iduc)\n",
    "\n",
    "# y_pred_DT_iduc,y_pred_proba_DT_iduc,_=Classfier.DT(X2,y2,X_test_iduc,y_test_iduc)\n",
    "\n",
    "# y_pred_Kmeans_iduc=Classfier.Kmeans(X2,y2)\n",
    "\n",
    "# y_pred_LR_iduc,y_pred_proba_LR_iduc,_=Classfier.LR(X2,y2,X_test_iduc,y_test_iduc)\n",
    "\n",
    "# y_pred_Gbayes_iduc,y_pred_proba_Gbayes_iduc,_=Classfier.gbayes(X2,y2,X_test_iduc,y_test_iduc)\n",
    "\n",
    "\n",
    "\n",
    "\n",
    "\n",
    "#TC_CC训练\n",
    "\n",
    "# y_pred_KNN_tccc,y_pred_proba_KNN_tccc,_=Classfier.KNN(X3,y3,X_test_tccc,y_test_tccc,5)\n",
    "\n",
    "# y_pred_RF_tccc,y_pred_proba_RF_tccc,_=Classfier.RF(X3,y3,X_test_tccc,y_test_tccc)\n",
    "\n",
    "# y_pred_DT_tccc,y_pred_proba_DT_tccc,_=Classfier.DT(X3,y3,X_test_tccc,y_test_tccc)\n",
    "\n",
    "# y_pred_Kmeans_tccc=Classfier.Kmeans(X3,y3)\n",
    "\n",
    "# y_pred_LR_tccc,y_pred_proba_LR_tccc,_=Classfier.LR(X3,y3,X_test_tccc,y_test_tccc)\n",
    "\n",
    "# y_pred_Gbayes_tccc,y_pred_proba_Gbayes_tccc,_=Classfier.gbayes(X3,y3,X_test_tccc,y_test_tccc)\n",
    "\n",
    "\n",
    "\n",
    "\n",
    "\n",
    "#UC_CC训练\n",
    "\n",
    "# y_pred_KNN_uccc,y_pred_proba_KNN_uccc,_=Classfier.KNN(X4,y4,X_test_uccc,y_test_uccc,5)\n",
    "\n",
    "# y_pred_RF_uccc,y_pred_proba_RF_uccc,_=Classfier.RF(X4,y4,X_test_uccc,y_test_uccc)\n",
    "\n",
    "# y_pred_DT_uccc,y_pred_proba_DT_uccc,_=Classfier.DT(X4,y4,X_test_uccc,y_test_uccc)\n",
    "\n",
    "# y_pred_Kmeans_uccc=Classfier.Kmeans(X4,y4)\n",
    "\n",
    "# y_pred_LR_uccc,y_pred_proba_LR_uccc,_=Classfier.LR(X4,y4,X_test_uccc,y_test_uccc)\n",
    "\n",
    "# y_pred_Gbayes_uccc,y_pred_proba_Gbayes_uccc,_=Classfier.gbayes(X4,y4,X_test_uccc,y_test_uccc)\n",
    "\n",
    "\n",
    "\n",
    "\n",
    "\n",
    "#UC_TC训练\n",
    "\n",
    "# y_pred_KNN_uctc,y_pred_proba_KNN_uctc,_=Classfier.KNN(X5,y5,X_test_uctc,y_test_uctc,5)\n",
    "\n",
    "# y_pred_RF_uctc,y_pred_proba_RF_uctc,_=Classfier.RF(X5,y5,X_test_uctc,y_test_uctc)\n",
    "\n",
    "# y_pred_DT_uctc,y_pred_proba_DT_uctc,_=Classfier.DT(X5,y5,X_test_uctc,y_test_uctc)\n",
    "\n",
    "# y_pred_Kmeans_uctc=Classfier.Kmeans(X5,y5)\n",
    "\n",
    "# y_pred_LR_uctc,y_pred_proba_LR_uctc,_=Classfier.LR(X5,y5,X_test_uctc,y_test_uctc)\n",
    "\n",
    "# y_pred_Gbayes_uctc,y_pred_proba_Gbayes_uctc,_=Classfier.gbayes(X5,y5,X_test_uctc,y_test_uctc)\n",
    "\n",
    "#iTrust\n",
    "\n",
    "# y_pred_knn_iTrust,y_pred_proba_knn_iTrust,_=Classfier.KNN(X6,y6,X_test_iTrust,y_test_iTrust,5)\n",
    "\n",
    "# y_pred_RF_iTrust,y_pred_proba_RF_iTrust,_=Classfier.RF(X6,y6,X_test_iTrust,y_test_iTrust)\n",
    "\n",
    "# y_pred_DT_iTrust,y_pred_proba_DT_iTrust,_=Classfier.DT(X6,y6,X_test_iTrust,y_test_iTrust)\n",
    "\n",
    "# y_pred_Kmeans_iTrust=Classfier.Kmeans(X6,y6)\n",
    "\n",
    "# y_pred_LR_iTrust,y_pred_proba_LR_iTrust,_=Classfier.LR(X6,y6,X_test_iTrust,y_test_iTrust)\n",
    "\n",
    "# y_pred_gbayes_iTrust,y_pred_proba_gbayes_iTrust,_=Classfier.gbayes(X6,y6,X_test_iTrust,y_test_iTrust)\n",
    "\n",
    "#SMOS\n",
    "\n",
    "y_pred_knn_SMOS,y_pred_proba_knn_SMOS,_=Classfier.KNN(X7,y7,X_test_SMOS,y_test_SMOS,5)\n",
    "\n",
    "y_pred_RF_SMOS,y_pred_proba_RF_SMOS,_=Classfier.RF(X7,y7,X_test_SMOS,y_test_SMOS)\n",
    "\n",
    "y_pred_DT_SMOS,y_pred_proba_DT_SMOS,_=Classfier.DT(X7,y7,X_test_SMOS,y_test_SMOS)\n",
    "\n",
    "y_pred_Kmeans_SMOS=Classfier.Kmeans(X7,y7)\n",
    "\n",
    "y_pred_LR_SMOS,y_pred_proba_LR_SMOS,_=Classfier.LR(X7,y7,X_test_SMOS,y_test_SMOS)\n",
    "\n",
    "y_pred_gbayes_SMOS,y_pred_proba_gbayes_SMOS,_=Classfier.gbayes(X7,y7,X_test_SMOS,y_test_SMOS)\n",
    "\n",
    "\n"
   ]
  },
  {
   "cell_type": "code",
   "execution_count": 7,
   "metadata": {},
   "outputs": [
    {
     "name": "stderr",
     "output_type": "stream",
     "text": [
      "c:\\Users\\wangzihan\\AppData\\Local\\Programs\\Python\\Python36\\lib\\site-packages\\sklearn\\metrics\\_classification.py:1248: UndefinedMetricWarning: Precision and F-score are ill-defined and being set to 0.0 in labels with no predicted samples. Use `zero_division` parameter to control this behavior.\n",
      "  _warn_prf(average, modifier, msg_start, len(result))\n",
      "c:\\Users\\wangzihan\\AppData\\Local\\Programs\\Python\\Python36\\lib\\site-packages\\sklearn\\metrics\\_classification.py:1248: UndefinedMetricWarning: Precision and F-score are ill-defined and being set to 0.0 in labels with no predicted samples. Use `zero_division` parameter to control this behavior.\n",
      "  _warn_prf(average, modifier, msg_start, len(result))\n",
      "c:\\Users\\wangzihan\\AppData\\Local\\Programs\\Python\\Python36\\lib\\site-packages\\sklearn\\metrics\\_classification.py:1248: UndefinedMetricWarning: Precision and F-score are ill-defined and being set to 0.0 in labels with no predicted samples. Use `zero_division` parameter to control this behavior.\n",
      "  _warn_prf(average, modifier, msg_start, len(result))\n",
      "c:\\Users\\wangzihan\\AppData\\Local\\Programs\\Python\\Python36\\lib\\site-packages\\sklearn\\metrics\\_classification.py:1248: UndefinedMetricWarning: Precision and F-score are ill-defined and being set to 0.0 in labels with no predicted samples. Use `zero_division` parameter to control this behavior.\n",
      "  _warn_prf(average, modifier, msg_start, len(result))\n",
      "c:\\Users\\wangzihan\\AppData\\Local\\Programs\\Python\\Python36\\lib\\site-packages\\sklearn\\metrics\\_classification.py:1248: UndefinedMetricWarning: Precision and F-score are ill-defined and being set to 0.0 in labels with no predicted samples. Use `zero_division` parameter to control this behavior.\n",
      "  _warn_prf(average, modifier, msg_start, len(result))\n",
      "c:\\Users\\wangzihan\\AppData\\Local\\Programs\\Python\\Python36\\lib\\site-packages\\sklearn\\metrics\\_classification.py:1248: UndefinedMetricWarning: Precision and F-score are ill-defined and being set to 0.0 in labels with no predicted samples. Use `zero_division` parameter to control this behavior.\n",
      "  _warn_prf(average, modifier, msg_start, len(result))\n"
     ]
    }
   ],
   "source": [
    "import Stability as st\n",
    "#IDTC\n",
    "st.ReportStability(\"./Stability_result/ROS/IDTC\",X1,y1,X_test_idtc,y_test_idtc,10)\n",
    "#IDUC\n",
    "st.ReportStability(\"./Stability_result/ROS/IDUC\",X2,y2,X_test_iduc,y_test_iduc,10)\n",
    "#TCCC\n",
    "st.ReportStability(\"./Stability_result/ROS/TCCC\",X3,y3,X_test_tccc,y_test_tccc,10)\n",
    "#UCCC\n",
    "st.ReportStability(\"./Stability_result/ROS/UCCC\",X4,y4,X_test_uccc,y_test_uccc,10)\n",
    "#UCTC\n",
    "st.ReportStability(\"./Stability_result/ROS/UCTC\",X5,y5,X_test_uctc,y_test_uctc,10)\n",
    "#iTrust\n",
    "st.ReportStability(\"./Stability_result/ROS/iTrust\",X6,y6,X_test_iTrust,y_test_iTrust,10)\n",
    "#SMOS\n",
    "st.ReportStability(\"./Stability_result/ROS/SMOS\",X7,y7,X_test_SMOS,y_test_SMOS,10)\n"
   ]
  }
 ],
 "metadata": {
  "kernelspec": {
   "display_name": "Python 3.6.8 64-bit",
   "language": "python",
   "name": "python3"
  },
  "language_info": {
   "codemirror_mode": {
    "name": "ipython",
    "version": 3
   },
   "file_extension": ".py",
   "mimetype": "text/x-python",
   "name": "python",
   "nbconvert_exporter": "python",
   "pygments_lexer": "ipython3",
   "version": "3.6.8"
  },
  "orig_nbformat": 4,
  "vscode": {
   "interpreter": {
    "hash": "620e10979616b52f04cdcf4a5cffe0fe63efdd1be74bc8cf9c3e328745c0831f"
   }
  }
 },
 "nbformat": 4,
 "nbformat_minor": 2
}
