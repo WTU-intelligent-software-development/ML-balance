{
 "cells": [
  {
   "cell_type": "code",
   "execution_count": 1,
   "metadata": {},
   "outputs": [],
   "source": [
    "# -*-coding:utf-8-*-\n",
    "# @Time   : 2022/10/19 10:20\n",
    "# @Author : 王梓涵"
   ]
  },
  {
   "cell_type": "code",
   "execution_count": 2,
   "metadata": {},
   "outputs": [],
   "source": [
    "from sklearn.metrics import classification_report \n",
    "from sklearn.model_selection import train_test_split \n",
    "import data_into\n",
    "import data_blance\n",
    "import Classfier\n",
    "import ROC_PR"
   ]
  },
  {
   "cell_type": "code",
   "execution_count": 3,
   "metadata": {},
   "outputs": [
    {
     "name": "stdout",
     "output_type": "stream",
     "text": [
      "Raw X data statistics:\n",
      "Counter({0: 1, 1: 1, 2: 1, 3: 1, 4: 1, 5: 1, 6: 1, 7: 1, 8: 1, 9: 1})\n",
      "Raw X data statistics:\n",
      "Counter({0: 1, 1: 1, 2: 1, 3: 1, 4: 1, 5: 1, 6: 1, 7: 1, 8: 1, 9: 1})\n",
      "Raw X data statistics:\n",
      "Counter({0: 1, 1: 1, 2: 1, 3: 1, 4: 1, 5: 1, 6: 1, 7: 1, 8: 1, 9: 1})\n",
      "Raw X data statistics:\n",
      "Counter({0: 1, 1: 1, 2: 1, 3: 1, 4: 1, 5: 1, 6: 1, 7: 1, 8: 1, 9: 1})\n",
      "Raw X data statistics:\n",
      "Counter({0: 1, 1: 1, 2: 1, 3: 1, 4: 1, 5: 1, 6: 1, 7: 1, 8: 1, 9: 1})\n",
      "Raw X data statistics:\n",
      "Counter({0: 1, 1: 1, 2: 1, 3: 1, 4: 1, 5: 1, 6: 1, 7: 1, 8: 1, 9: 1})\n",
      "Raw X data statistics:\n",
      "Counter({0: 1, 1: 1, 2: 1, 3: 1, 4: 1, 5: 1, 6: 1, 7: 1, 8: 1, 9: 1})\n",
      "(29606, 10)\n",
      "(6566, 10)\n"
     ]
    }
   ],
   "source": [
    "filepath1='./data/Data_ID_TC.csv'\n",
    "filepath2='./data/Data_ID_UC.csv'\n",
    "filepath3='./data/Data_TC_CC.csv'\n",
    "filepath4='./data/Data_UC_CC.csv'\n",
    "filepath5='./data/Data_UC_TC.csv'\n",
    "\n",
    "filepath6='./data/Data_iTrust.csv'\n",
    "filepath7='./data/Data_SMOS.csv'\n",
    "\n",
    "X_dataset_ID_TC, y_dataset_ID_TC,data_ID_TC = data_into.data_into(filepath1)\n",
    "\n",
    "X_dataset_ID_UC, y_dataset_ID_UC,data_ID_UC = data_into.data_into(filepath2)\n",
    "\n",
    "X_dataset_TC_CC, y_dataset_TC_CC,data_TC_CC = data_into.data_into(filepath3)\n",
    "\n",
    "X_dataset_UC_CC, y_dataset_UC_CC,data_UC_CC = data_into.data_into(filepath4)\n",
    "\n",
    "X_dataset_UC_TC, y_dataset_UC_TC,data_UC_TC = data_into.data_into(filepath5)\n",
    "\n",
    "#代码制品\n",
    "\n",
    "X_dataset_iTrust, y_dataset_iTrust,data_iTrust = data_into.data_into(filepath6)\n",
    "\n",
    "X_dataset_SMOS, y_dataset_SMOS,data_SMOS = data_into.data_into(filepath7)\n",
    "\n",
    "print(X_dataset_iTrust.shape)\n",
    "print(X_dataset_SMOS.shape)\n"
   ]
  },
  {
   "cell_type": "markdown",
   "metadata": {},
   "source": [
    "平衡随机森林分类器"
   ]
  },
  {
   "cell_type": "code",
   "execution_count": 4,
   "metadata": {},
   "outputs": [
    {
     "name": "stdout",
     "output_type": "stream",
     "text": [
      "[0.1333985  0.19765394 0.07587343 0.15940219 0.03870652 0.05675448\n",
      " 0.13155117 0.13726374 0.0261684  0.04322762]\n",
      "              precision    recall  f1-score   support\n",
      "\n",
      "           0       1.00      0.91      0.95      1177\n",
      "           1       0.44      1.00      0.61        83\n",
      "\n",
      "    accuracy                           0.92      1260\n",
      "   macro avg       0.72      0.96      0.78      1260\n",
      "weighted avg       0.96      0.92      0.93      1260\n",
      "\n"
     ]
    }
   ],
   "source": [
    "from imblearn.ensemble import BalancedRandomForestClassifier\n",
    "\n",
    "clf = BalancedRandomForestClassifier(random_state=0)\n",
    "clf.fit(X_dataset_ID_TC, y_dataset_ID_TC)  \n",
    "print(clf.feature_importances_)\n",
    "print(classification_report(y_dataset_ID_TC, clf.predict(X_dataset_ID_TC)))\n",
    "\n",
    "# clf.fit(X_dataset_ID_UC, y_dataset_ID_UC)\n",
    "# print(clf.feature_importances_)\n",
    "# print(classification_report(y_dataset_ID_UC, clf.predict(X_dataset_ID_UC)))\n",
    "\n",
    "# clf.fit(X_dataset_TC_CC, y_dataset_TC_CC)\n",
    "# print(clf.feature_importances_)\n",
    "# print(classification_report(y_dataset_TC_CC, clf.predict(X_dataset_TC_CC)))\n",
    "\n",
    "# clf.fit(X_dataset_UC_CC, y_dataset_UC_CC)\n",
    "# print(clf.feature_importances_)\n",
    "# print(classification_report(y_dataset_UC_CC, clf.predict(X_dataset_UC_CC)))\n",
    "\n",
    "# clf.fit(X_dataset_UC_TC, y_dataset_UC_TC)\n",
    "# print(clf.feature_importances_)\n",
    "# print(classification_report(y_dataset_UC_TC, clf.predict(X_dataset_UC_TC)))\n",
    "\n",
    "# clf.fit(X_dataset_iTrust, y_dataset_iTrust)\n",
    "# print(clf.feature_importances_)\n",
    "# print(classification_report(y_dataset_iTrust, clf.predict(X_dataset_iTrust)))\n",
    "\n",
    "# clf.fit(X_dataset_SMOS, y_dataset_SMOS)\n",
    "# print(clf.feature_importances_)\n",
    "# print(classification_report(y_dataset_SMOS, clf.predict(X_dataset_SMOS)))\n"
   ]
  },
  {
   "cell_type": "markdown",
   "metadata": {},
   "source": [
    "RUSBoostClassifier"
   ]
  },
  {
   "cell_type": "code",
   "execution_count": 5,
   "metadata": {},
   "outputs": [
    {
     "name": "stdout",
     "output_type": "stream",
     "text": [
      "[0.08  0.09  0.075 0.055 0.16  0.075 0.09  0.1   0.06  0.04 ]\n",
      "              precision    recall  f1-score   support\n",
      "\n",
      "           0       1.00      0.96      0.98      1177\n",
      "           1       0.62      0.95      0.75        83\n",
      "\n",
      "    accuracy                           0.96      1260\n",
      "   macro avg       0.81      0.96      0.86      1260\n",
      "weighted avg       0.97      0.96      0.96      1260\n",
      "\n",
      "[0.015 0.035 0.06  0.04  0.055 0.085 0.04  0.045 0.045 0.02 ]\n",
      "              precision    recall  f1-score   support\n",
      "\n",
      "           0       1.00      0.95      0.97       574\n",
      "           1       0.47      1.00      0.64        26\n",
      "\n",
      "    accuracy                           0.95       600\n",
      "   macro avg       0.74      0.97      0.81       600\n",
      "weighted avg       0.98      0.95      0.96       600\n",
      "\n",
      "[0.075 0.07  0.11  0.08  0.145 0.115 0.08  0.105 0.135 0.085]\n",
      "              precision    recall  f1-score   support\n",
      "\n",
      "           0       0.99      0.95      0.97      2757\n",
      "           1       0.59      0.89      0.71       204\n",
      "\n",
      "    accuracy                           0.95      2961\n",
      "   macro avg       0.79      0.92      0.84      2961\n",
      "weighted avg       0.96      0.95      0.95      2961\n",
      "\n",
      "[0.04  0.09  0.055 0.07  0.19  0.125 0.13  0.08  0.1   0.07 ]\n",
      "              precision    recall  f1-score   support\n",
      "\n",
      "           0       0.97      0.97      0.97      1317\n",
      "           1       0.54      0.57      0.55        93\n",
      "\n",
      "    accuracy                           0.94      1410\n",
      "   macro avg       0.75      0.77      0.76      1410\n",
      "weighted avg       0.94      0.94      0.94      1410\n",
      "\n",
      "[0.045 0.025 0.045 0.065 0.075 0.09  0.11  0.075 0.06  0.045]\n",
      "              precision    recall  f1-score   support\n",
      "\n",
      "           0       1.00      0.96      0.98      1827\n",
      "           1       0.45      1.00      0.62        63\n",
      "\n",
      "    accuracy                           0.96      1890\n",
      "   macro avg       0.72      0.98      0.80      1890\n",
      "weighted avg       0.98      0.96      0.97      1890\n",
      "\n",
      "[0.14  0.115 0.115 0.105 0.155 0.09  0.08  0.11  0.06  0.03 ]\n",
      "              precision    recall  f1-score   support\n",
      "\n",
      "           0       1.00      0.64      0.78     29320\n",
      "           1       0.02      0.69      0.04       286\n",
      "\n",
      "    accuracy                           0.64     29606\n",
      "   macro avg       0.51      0.66      0.41     29606\n",
      "weighted avg       0.99      0.64      0.77     29606\n",
      "\n",
      "[0.02  0.06  0.025 0.105 0.075 0.17  0.045 0.105 0.185 0.21 ]\n",
      "              precision    recall  f1-score   support\n",
      "\n",
      "           0       0.90      0.63      0.74      5539\n",
      "           1       0.23      0.61      0.34      1027\n",
      "\n",
      "    accuracy                           0.63      6566\n",
      "   macro avg       0.56      0.62      0.54      6566\n",
      "weighted avg       0.79      0.63      0.68      6566\n",
      "\n"
     ]
    }
   ],
   "source": [
    "from imblearn.ensemble import RUSBoostClassifier\n",
    "rusboost = RUSBoostClassifier(n_estimators=200, random_state=0)\n",
    "\n",
    "rusboost.fit(X_dataset_ID_TC, y_dataset_ID_TC)  \n",
    "print(rusboost.feature_importances_)\n",
    "print(classification_report(y_dataset_ID_TC, rusboost.predict(X_dataset_ID_TC)))\n",
    "\n",
    "rusboost.fit(X_dataset_ID_UC, y_dataset_ID_UC)\n",
    "print(rusboost.feature_importances_)\n",
    "print(classification_report(y_dataset_ID_UC, rusboost.predict(X_dataset_ID_UC)))\n",
    "\n",
    "rusboost.fit(X_dataset_TC_CC, y_dataset_TC_CC)\n",
    "print(rusboost.feature_importances_)\n",
    "print(classification_report(y_dataset_TC_CC, rusboost.predict(X_dataset_TC_CC)))\n",
    "\n",
    "rusboost.fit(X_dataset_UC_CC, y_dataset_UC_CC)\n",
    "print(rusboost.feature_importances_)\n",
    "print(classification_report(y_dataset_UC_CC, rusboost.predict(X_dataset_UC_CC)))\n",
    "\n",
    "rusboost.fit(X_dataset_UC_TC, y_dataset_UC_TC)\n",
    "print(rusboost.feature_importances_)\n",
    "print(classification_report(y_dataset_UC_TC, rusboost.predict(X_dataset_UC_TC)))\n",
    "\n",
    "rusboost.fit(X_dataset_iTrust, y_dataset_iTrust)\n",
    "print(rusboost.feature_importances_)\n",
    "print(classification_report(y_dataset_iTrust, rusboost.predict(X_dataset_iTrust)))\n",
    "\n",
    "rusboost.fit(X_dataset_SMOS, y_dataset_SMOS)\n",
    "print(rusboost.feature_importances_)\n",
    "print(classification_report(y_dataset_SMOS, rusboost.predict(X_dataset_SMOS)))\n"
   ]
  },
  {
   "cell_type": "markdown",
   "metadata": {},
   "source": [
    "平衡Bagging集成学习"
   ]
  },
  {
   "cell_type": "code",
   "execution_count": 6,
   "metadata": {},
   "outputs": [
    {
     "name": "stdout",
     "output_type": "stream",
     "text": [
      "Balanced accuracy score: 0.78\n",
      "              precision    recall  f1-score   support\n",
      "\n",
      "           0       0.99      0.78      0.87      2929\n",
      "           1       0.01      0.25      0.02        32\n",
      "\n",
      "    accuracy                           0.78      2961\n",
      "   macro avg       0.50      0.52      0.45      2961\n",
      "weighted avg       0.98      0.78      0.86      2961\n",
      "\n",
      "Balanced accuracy score: 0.67\n",
      "              precision    recall  f1-score   support\n",
      "\n",
      "           0       0.85      0.74      0.79       553\n",
      "           1       0.18      0.30      0.22       104\n",
      "\n",
      "    accuracy                           0.67       657\n",
      "   macro avg       0.51      0.52      0.51       657\n",
      "weighted avg       0.74      0.67      0.70       657\n",
      "\n"
     ]
    }
   ],
   "source": [
    "from collections import Counter\n",
    "from sklearn.datasets import make_classification\n",
    "from sklearn.model_selection import train_test_split\n",
    "from sklearn.metrics import confusion_matrix\n",
    "from imblearn.ensemble import BalancedBaggingClassifier \n",
    "# X_train1, X_test1, y_train1, y_test1 = train_test_split(X_dataset_ID_TC, y_dataset_ID_TC,random_state=0, test_size=0.1)\n",
    "# bbc1 = BalancedBaggingClassifier(random_state=0)\n",
    "# bbc1.fit(X_train1, y_train1)\n",
    "# y_pred_idtc = bbc1.predict(X_test1)\n",
    "# print('Balanced accuracy score: {:.2f}'.format(bbc1.score(X_test1, y_test1)))\n",
    "# print(classification_report(y_test1, y_pred_idtc))\n",
    "\n",
    "# X_train2, X_test2, y_train2, y_test2 = train_test_split(X_dataset_ID_UC, y_dataset_ID_UC,random_state=0, test_size=0.1)\n",
    "# bbc2 = BalancedBaggingClassifier(random_state=0)\n",
    "# bbc2.fit(X_train2, y_train2)\n",
    "# y_pred_iduc = bbc2.predict(X_test2)\n",
    "# print('Balanced accuracy score: {:.2f}'.format(bbc2.score(X_test2, y_test2)))\n",
    "# print(classification_report(y_test2, y_pred_iduc))\n",
    "\n",
    "# X_train3, X_test3, y_train3, y_test3 = train_test_split(X_dataset_TC_CC, y_dataset_TC_CC,random_state=0, test_size=0.1)\n",
    "# bbc3 = BalancedBaggingClassifier(random_state=0)\n",
    "# bbc3.fit(X_train3, y_train3)\n",
    "# y_pred_tccc = bbc3.predict(X_test3)\n",
    "# print('Balanced accuracy score: {:.2f}'.format(bbc3.score(X_test3, y_test3)))\n",
    "# print(classification_report(y_test3, y_pred_tccc))\n",
    "\n",
    "\n",
    "# X_train4, X_test4, y_train4, y_test4 = train_test_split(X_dataset_UC_CC, y_dataset_UC_CC,random_state=0, test_size=0.1)\n",
    "# bbc4 = BalancedBaggingClassifier(random_state=0)\n",
    "# bbc4.fit(X_train4, y_train4)\n",
    "# y_pred_uccc = bbc4.predict(X_test4)\n",
    "# print('Balanced accuracy score: {:.2f}'.format(bbc4.score(X_test4, y_test4)))\n",
    "# print(classification_report(y_test4, y_pred_uccc))\n",
    "\n",
    "# X_train5, X_test5, y_train5, y_test5 = train_test_split(X_dataset_UC_TC, y_dataset_UC_TC,random_state=0, test_size=0.1)\n",
    "# bbc5 = BalancedBaggingClassifier(random_state=0)\n",
    "# bbc5.fit(X_train5, y_train5)\n",
    "# y_pred_uctc = bbc5.predict(X_test5)\n",
    "# print('Balanced accuracy score: {:.2f}'.format(bbc5.score(X_test5, y_test5)))\n",
    "# print(classification_report(y_test5, y_pred_uctc))\n",
    "\n",
    "X_train6, X_test6, y_train6, y_test6 = train_test_split(X_dataset_iTrust, y_dataset_iTrust,random_state=0, test_size=0.1)\n",
    "bbc6 = BalancedBaggingClassifier(random_state=0)\n",
    "bbc6.fit(X_train6, y_train6)\n",
    "y_pred_iTrust = bbc6.predict(X_test6)\n",
    "print('Balanced accuracy score: {:.2f}'.format(bbc6.score(X_test6, y_test6)))\n",
    "print(classification_report(y_test6, y_pred_iTrust))\n",
    "\n",
    "X_train7, X_test7, y_train7, y_test7 = train_test_split(X_dataset_SMOS, y_dataset_SMOS,random_state=0, test_size=0.1)\n",
    "bbc7 = BalancedBaggingClassifier(random_state=0)\n",
    "bbc7.fit(X_train7, y_train7)\n",
    "y_pred_SMOS = bbc7.predict(X_test7)\n",
    "print('Balanced accuracy score: {:.2f}'.format(bbc7.score(X_test7, y_test7)))\n",
    "print(classification_report(y_test7, y_pred_SMOS))\n",
    "\n"
   ]
  },
  {
   "cell_type": "code",
   "execution_count": 7,
   "metadata": {},
   "outputs": [],
   "source": [
    "X_dataset_ID_TC1, y_dataset_ID_TC1,X_test_idtc,y_test_idtc=Classfier.trainsplit(X_dataset_ID_TC, y_dataset_ID_TC)\n",
    "X_dataset_ID_UC1, y_dataset_ID_UC1,X_test_iduc,y_test_iduc=Classfier.trainsplit(X_dataset_ID_UC, y_dataset_ID_UC)\n",
    "X_dataset_TC_CC1, y_dataset_TC_CC1,X_test_tccc,y_test_tccc=Classfier.trainsplit(X_dataset_TC_CC, y_dataset_TC_CC)\n",
    "X_dataset_UC_CC1, y_dataset_UC_CC1,X_test_uccc,y_test_uccc=Classfier.trainsplit(X_dataset_UC_CC, y_dataset_UC_CC)\n",
    "X_dataset_UC_TC1, y_dataset_UC_TC1,X_test_uctc,y_test_uctc=Classfier.trainsplit(X_dataset_UC_TC, y_dataset_UC_TC)\n",
    "\n",
    "X_dataset_iTrust1, y_dataset_iTrust1,X_test_iTrust,y_test_iTrust=Classfier.trainsplit(X_dataset_iTrust, y_dataset_iTrust)\n",
    "\n",
    "X_dataset_SMOS1, y_dataset_SMOS1,X_test_SMOS,y_test_SMOS=Classfier.trainsplit(X_dataset_SMOS, y_dataset_SMOS)\n"
   ]
  },
  {
   "cell_type": "markdown",
   "metadata": {},
   "source": [
    "GBDT"
   ]
  },
  {
   "cell_type": "code",
   "execution_count": 8,
   "metadata": {},
   "outputs": [
    {
     "name": "stdout",
     "output_type": "stream",
     "text": [
      "      Iter       Train Loss   Remaining Time \n",
      "         1           0.1097            8.57s\n",
      "         2           0.1091            8.44s\n",
      "         3           0.1087            8.39s\n",
      "         4           0.1075            8.27s\n",
      "         5           0.1070            8.21s\n",
      "         6           0.1065            8.10s\n",
      "         7           0.1056            7.99s\n",
      "         8           0.1047            7.90s\n",
      "         9           0.1038            7.82s\n",
      "        10           0.1030            7.79s\n",
      "        20           0.0963            7.03s\n",
      "        30           0.0898            6.35s\n",
      "        40           0.0831            5.64s\n",
      "        50           0.0765            4.91s\n",
      "        60           0.0685            4.20s\n",
      "        70           0.0628            3.49s\n",
      "        80           0.0564            2.79s\n",
      "        90           0.0533            2.09s\n",
      "       100           0.0483            1.39s\n",
      "Score： 0.9868287740628167\n",
      "              precision    recall  f1-score   support\n",
      "\n",
      "           0       0.99      0.99      0.99      2937\n",
      "           1       0.00      0.00      0.00        24\n",
      "\n",
      "    accuracy                           0.99      2961\n",
      "   macro avg       0.50      0.50      0.50      2961\n",
      "weighted avg       0.98      0.99      0.99      2961\n",
      "\n",
      "      Iter       Train Loss   Remaining Time \n",
      "         1           0.8531            1.67s\n",
      "         2           0.8518            1.71s\n",
      "         3           0.8509            1.76s\n",
      "         4           0.8503            1.77s\n",
      "         5           0.8497            1.75s\n",
      "         6           0.8490            1.75s\n",
      "         7           0.8473            1.73s\n",
      "         8           0.8456            1.69s\n",
      "         9           0.8440            1.68s\n",
      "        10           0.8419            1.67s\n",
      "        20           0.8281            1.48s\n",
      "        30           0.8166            1.33s\n",
      "        40           0.8078            1.18s\n",
      "        50           0.7973            1.04s\n",
      "        60           0.7870            0.89s\n",
      "        70           0.7802            0.74s\n",
      "        80           0.7726            0.59s\n",
      "        90           0.7666            0.44s\n",
      "       100           0.7592            0.30s\n",
      "Score： 0.8082191780821918\n",
      "              precision    recall  f1-score   support\n",
      "\n",
      "           0       0.81      1.00      0.89       532\n",
      "           1       0.00      0.00      0.00       125\n",
      "\n",
      "    accuracy                           0.81       657\n",
      "   macro avg       0.40      0.50      0.45       657\n",
      "weighted avg       0.66      0.81      0.72       657\n",
      "\n"
     ]
    }
   ],
   "source": [
    "# y_pred_gbdt_idtc=Classfier.GBDT(X_dataset_ID_TC1, y_dataset_ID_TC1,X_test_idtc,y_test_idtc)\n",
    "\n",
    "\n",
    "# y_pred_gbdt_iduc=Classfier.GBDT(X_dataset_ID_UC1, y_dataset_ID_UC1,X_test_iduc,y_test_iduc)\n",
    "\n",
    "\n",
    "# y_pred_gbdt_tccc=Classfier.GBDT(X_dataset_TC_CC1, y_dataset_TC_CC1,X_test_tccc,y_test_tccc)\n",
    "\n",
    "\n",
    "# y_pred_gbdt_uccc=Classfier.GBDT(X_dataset_UC_CC1, y_dataset_UC_CC1,X_test_uccc,y_test_uccc)\n",
    "\n",
    "\n",
    "# y_pred_gbdt_uctc=Classfier.GBDT(X_dataset_UC_TC1, y_dataset_UC_TC1,X_test_uctc,y_test_uctc)\n",
    "\n",
    "y_pred_gbdt_iTrust=Classfier.GBDT(X_dataset_iTrust1, y_dataset_iTrust1,X_test_iTrust,y_test_iTrust)\n",
    "\n",
    "y_pred_gbdt_SMOS=Classfier.GBDT(X_dataset_SMOS1, y_dataset_SMOS1,X_test_SMOS,y_test_SMOS)"
   ]
  },
  {
   "cell_type": "markdown",
   "metadata": {},
   "source": [
    "XGBoost"
   ]
  },
  {
   "cell_type": "code",
   "execution_count": 9,
   "metadata": {},
   "outputs": [
    {
     "name": "stdout",
     "output_type": "stream",
     "text": [
      "[11:52:55] WARNING: C:/Users/Administrator/workspace/xgboost-win64_release_1.5.1/src/learner.cc:576: \n",
      "Parameters: { \"silent\" } might not be used.\n",
      "\n",
      "  This could be a false alarm, with some parameters getting used by language bindings but\n",
      "  then being mistakenly passed down to XGBoost core, or some parameter actually being used\n",
      "  but getting flagged wrongly here. Please open an issue if you find any such cases.\n",
      "\n",
      "\n",
      "[11:52:55] WARNING: C:/Users/Administrator/workspace/xgboost-win64_release_1.5.1/src/learner.cc:1115: Starting in XGBoost 1.3.0, the default evaluation metric used with the objective 'multi:softmax' was changed from 'merror' to 'mlogloss'. Explicitly set eval_metric if you'd like to restore the old behavior.\n",
      "accuarcy: 99.16%\n"
     ]
    },
    {
     "data": {
      "image/png": "[encoded data removed]",
      "text/plain": [
       "<Figure size 432x288 with 1 Axes>"
      ]
     },
     "metadata": {
      "needs_background": "light"
     },
     "output_type": "display_data"
    },
    {
     "name": "stdout",
     "output_type": "stream",
     "text": [
      "              precision    recall  f1-score   support\n",
      "\n",
      "           0       0.99      1.00      1.00      2937\n",
      "           1       0.00      0.00      0.00        24\n",
      "\n",
      "    accuracy                           0.99      2961\n",
      "   macro avg       0.50      0.50      0.50      2961\n",
      "weighted avg       0.98      0.99      0.99      2961\n",
      "\n",
      "[11:53:08] WARNING: C:/Users/Administrator/workspace/xgboost-win64_release_1.5.1/src/learner.cc:576: \n",
      "Parameters: { \"silent\" } might not be used.\n",
      "\n",
      "  This could be a false alarm, with some parameters getting used by language bindings but\n",
      "  then being mistakenly passed down to XGBoost core, or some parameter actually being used\n",
      "  but getting flagged wrongly here. Please open an issue if you find any such cases.\n",
      "\n",
      "\n",
      "[11:53:08] WARNING: C:/Users/Administrator/workspace/xgboost-win64_release_1.5.1/src/learner.cc:1115: Starting in XGBoost 1.3.0, the default evaluation metric used with the objective 'multi:softmax' was changed from 'merror' to 'mlogloss'. Explicitly set eval_metric if you'd like to restore the old behavior.\n",
      "accuarcy: 80.21%\n"
     ]
    },
    {
     "data": {
      "image/png": "[encoded data removed]",
      "text/plain": [
       "<Figure size 432x288 with 1 Axes>"
      ]
     },
     "metadata": {
      "needs_background": "light"
     },
     "output_type": "display_data"
    },
    {
     "name": "stdout",
     "output_type": "stream",
     "text": [
      "              precision    recall  f1-score   support\n",
      "\n",
      "           0       0.81      0.98      0.89       532\n",
      "           1       0.31      0.03      0.06       125\n",
      "\n",
      "    accuracy                           0.80       657\n",
      "   macro avg       0.56      0.51      0.47       657\n",
      "weighted avg       0.72      0.80      0.73       657\n",
      "\n"
     ]
    }
   ],
   "source": [
    "# y_pred_xgb_idtc=Classfier.XGBoost(X_dataset_ID_TC1, y_dataset_ID_TC1,X_test_idtc,y_test_idtc)\n",
    "\n",
    "# y_pred_xgb_iduc=Classfier.XGBoost(X_dataset_ID_UC1, y_dataset_ID_UC1,X_test_iduc,y_test_iduc)\n",
    "\n",
    "# y_pred_xgb_tccc=Classfier.XGBoost(X_dataset_TC_CC1, y_dataset_TC_CC1,X_test_tccc,y_test_tccc)\n",
    "\n",
    "# y_pred_xgb_uccc=Classfier.XGBoost(X_dataset_UC_CC1, y_dataset_UC_CC1,X_test_uccc,y_test_uccc)\n",
    "\n",
    "# y_pred_xgb_uctc=Classfier.XGBoost(X_dataset_UC_TC1, y_dataset_UC_TC1,X_test_uctc,y_test_uctc)\n",
    "\n",
    "y_pred_xgb_iTrust=Classfier.XGBoost(X_dataset_iTrust1, y_dataset_iTrust1,X_test_iTrust,y_test_iTrust)\n",
    "\n",
    "y_pred_xgb_SMOS=Classfier.XGBoost(X_dataset_SMOS1, y_dataset_SMOS1,X_test_SMOS,y_test_SMOS)"
   ]
  }
 ],
 "metadata": {
  "kernelspec": {
   "display_name": "Python 3.6.8 64-bit",
   "language": "python",
   "name": "python3"
  },
  "language_info": {
   "codemirror_mode": {
    "name": "ipython",
    "version": 3
   },
   "file_extension": ".py",
   "mimetype": "text/x-python",
   "name": "python",
   "nbconvert_exporter": "python",
   "pygments_lexer": "ipython3",
   "version": "3.6.8"
  },
  "orig_nbformat": 4,
  "vscode": {
   "interpreter": {
    "hash": "620e10979616b52f04cdcf4a5cffe0fe63efdd1be74bc8cf9c3e328745c0831f"
   }
  }
 },
 "nbformat": 4,
 "nbformat_minor": 2
}
