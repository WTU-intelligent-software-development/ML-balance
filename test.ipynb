{
 "cells": [
  {
   "cell_type": "code",
   "execution_count": null,
   "metadata": {},
   "outputs": [],
   "source": [
    "X = [[0], [1.2], [1.2], [3.1312], [4.443423], [5.56656], [6.4545], [6.6546], [7.888], [9.5454]]\n",
    "y = [0, 0, 1, 0, 1, 1, 0, 1, 1, 1]\n",
    "from sklearn.model_selection import train_test_split \n",
    "from sklearn.neighbors import KNeighborsClassifier\n",
    "from sklearn.metrics import  classification_report\n",
    "import pandas as pd\n",
    "# X_train,X_test,y_train,y_test = train_test_split(X, y, random_state=32,test_size=0.1)\n",
    "# neigh = KNeighborsClassifier(n_neighbors=3)\n",
    "# neigh.fit(X, y)\n",
    "# yp=neigh.predict(X_test)\n",
    "# #report=classification_report(y_test,yp,output_dict=True)\n",
    "# #print(report)\n",
    "\n",
    "# print(\"----------------------------------------------------------\")\n",
    "\n",
    "\n",
    "# #print(type(report))\n",
    "\n",
    "# print(\"----------------------------------------------------------\")\n",
    "# report_data = []\n",
    "# print(report.get('1').get('precision'))\n",
    "# print(\"----------------------------------------------------------\")\n",
    "# print(report['1']['precision'])\n",
    "# print(\"----------------------------------------------------------\")\n",
    "# print(report['1']['recall'])\n",
    "# print(\"----------------------------------------------------------\")\n",
    "# print(report['1']['f1-score'])\n",
    "# # print(lines)\n",
    "# df = pd.DataFrame(report).transpose()\n",
    "# df.to_csv(\"report.csv\", index= True)"
   ]
  },
  {
   "cell_type": "code",
   "execution_count": null,
   "metadata": {},
   "outputs": [],
   "source": [
    "import Stability as st\n",
    "import data_into as dt\n",
    "import data_blance as db\n",
    "filepath1='./data/Data_ID_TC.csv'\n",
    "filepath2='./data/Data_ID_UC.csv'\n",
    "filepath3='./data/Data_TC_CC.csv'\n",
    "filepath4='./data/Data_UC_CC.csv'\n",
    "filepath5='./data/Data_UC_TC.csv'\n",
    "\n",
    "filepath6='./data/Data_iTrust.csv'\n",
    "filepath7='./data/Data_SMOS.csv'\n",
    "\n",
    "X_dataset_ID_TC, y_dataset_ID_TC,data_ID_TC = dt.data_into(filepath1)\n",
    "\n",
    "X_dataset_ID_UC, y_dataset_ID_UC,data_ID_UC = dt.data_into(filepath2)\n",
    "\n",
    "X_dataset_TC_CC, y_dataset_TC_CC,data_TC_CC = dt.data_into(filepath3)\n",
    "\n",
    "X_dataset_UC_CC, y_dataset_UC_CC,data_UC_CC = dt.data_into(filepath4)\n",
    "\n",
    "X_dataset_UC_TC, y_dataset_UC_TC,data_UC_TC = dt.data_into(filepath5)\n",
    "\n",
    "#代码制品\n",
    "\n",
    "X_dataset_iTrust, y_dataset_iTrust,data_iTrust = dt.data_into(filepath6)\n",
    "\n",
    "X_dataset_SMOS, y_dataset_SMOS,data_SMOS = dt.data_into(filepath7)\n",
    "\n",
    "\n",
    "IDTC= \"IDTC\"\n",
    "IDUC= \"IDUC\"\n",
    "TCCC= \"TCCC\"\n",
    "UCCC= \"UCCC\"\n",
    "UCTC= \"UCTC\"\n",
    "iTrust= \"iTrust\"\n",
    "SMOS= \"SMOS\"\n",
    "st.cv(\"./CVres/RUS/IDTC.csv\",X_dataset_ID_TC, y_dataset_ID_TC,db.undersmapling,IDTC)\n",
    "\n",
    "\n"
   ]
  },
  {
   "cell_type": "code",
   "execution_count": null,
   "metadata": {},
   "outputs": [],
   "source": [
    "# import STAB as st\n",
    "import data_into as dt\n",
    "import data_blance as db\n",
    "import clustingstab as cb\n",
    "filepath1='./data/Data_ID_TC.csv'\n",
    "filepath2='./data/Data_ID_UC.csv'\n",
    "filepath3='./data/Data_TC_CC.csv'\n",
    "filepath4='./data/Data_UC_CC.csv'\n",
    "filepath5='./data/Data_UC_TC.csv'\n",
    "\n",
    "filepath6='./data/Data_iTrust.csv'\n",
    "filepath7='./data/Data_SMOS.csv'\n",
    "\n",
    "X_dataset_ID_TC, y_dataset_ID_TC,data_ID_TC = dt.data_into(filepath1)\n",
    "\n",
    "X_dataset_ID_UC, y_dataset_ID_UC,data_ID_UC = dt.data_into(filepath2)\n",
    "\n",
    "X_dataset_TC_CC, y_dataset_TC_CC,data_TC_CC = dt.data_into(filepath3)\n",
    "\n",
    "X_dataset_UC_CC, y_dataset_UC_CC,data_UC_CC = dt.data_into(filepath4)\n",
    "\n",
    "X_dataset_UC_TC, y_dataset_UC_TC,data_UC_TC = dt.data_into(filepath5)\n",
    "\n",
    "#代码制品\n",
    "X_dataset_iTrust, y_dataset_iTrust,data_iTrust = dt.data_into(filepath6)\n",
    "\n",
    "X_dataset_SMOS, y_dataset_SMOS,data_SMOS = dt.data_into(filepath7)\n",
    "\n"
   ]
  },
  {
   "cell_type": "code",
   "execution_count": null,
   "metadata": {},
   "outputs": [],
   "source": [
    "import time\n",
    "\n",
    "time_start=time.time()\n",
    "\n",
    "time_end=time.time()\n",
    "print('time cost',time_end-time_start,'s')\n"
   ]
  },
  {
   "cell_type": "code",
   "execution_count": null,
   "metadata": {},
   "outputs": [],
   "source": [
    "import nobalance as nb\n",
    "import data_into as dt\n",
    "import CoSo as cs\n",
    "import Stability as st\n",
    "import data_blance as db\n",
    "# filepath6='./data/Data_iTrust.csv'\n",
    "# X_dataset_iTrust, y_dataset_iTrust,data_iTrust = dt.data_into(filepath6)\n",
    "# filepath5='./data/Data_UC_TC.csv'\n",
    "filepath6='./data/Data_iTrust.csv'\n",
    "# filepath7='./data/Data_SMOS.csv'\n",
    "# X_dataset_UC_TC, y_dataset_UC_TC,data_UC_TC = dt.data_into(filepath5)\n",
    "# nb.itrust('./CVres/None/iTrust.csv',X_dataset_iTrust, y_dataset_iTrust)\n",
    "# X_dataset_SMOS, y_dataset_SMOS,data_SMOS = dt.data_into(filepath7)\n",
    "X_dataset_iTrust, y_dataset_iTrust,data_iTrust = dt.data_into(filepath6)\n",
    "# UCTC='UCTC'\n",
    "# SMOS='SMOS'\n",
    "iTrust='iTrust'\n",
    "# st.cv('./CVres/Tomeklink/SMOS.csv',X_dataset_SMOS, y_dataset_SMOS,db.TomekLink,SMOS)\n",
    "# cs.runcs()\n",
    "st.itrusttmoek('./CVress/Tomeklink/iTrust.csv',X_dataset_iTrust, y_dataset_iTrust,db.TomekLink)\n",
    "st.itrustros('./CVress/ROS/iTrust.csv',X_dataset_iTrust, y_dataset_iTrust,db.Randomos)\n",
    "st.itrustsmote('./CVress/SMOTE/iTrust.csv',X_dataset_iTrust, y_dataset_iTrust,db.smote)\n",
    "st.itrustsmoteenn('./CVress/SMOTEENN/iTrust.csv',X_dataset_iTrust, y_dataset_iTrust,db.smotenn)\n",
    "st.itrustsmotetomek('./CVress/SMOTETomeklink/iTrust.csv',X_dataset_iTrust, y_dataset_iTrust,db.Smote_Tomek)"
   ]
  },
  {
   "cell_type": "code",
   "execution_count": null,
   "metadata": {},
   "outputs": [],
   "source": [
    "from scipy import stats\n",
    "import numpy as np\n",
    "import scipy.stats\n",
    "\n",
    "request_c = np.array([30, 152, 267, 369, 478])\n",
    "request_e = np.array([30, 152, 277, 383, 497])\n",
    "\n",
    "t, pval = scipy.stats.ttest_ind(request_e, request_c)\n",
    "print(t,pval)"
   ]
  },
  {
   "cell_type": "code",
   "execution_count": null,
   "metadata": {},
   "outputs": [],
   "source": [
    "import scipy.stats as stats\n",
    "weight_high=[0.9135,0.9250,0.8403,0.8718,0.8732,0.5260,0.4509]\n",
    "weight_low=[0.9242,0.5,0.9395,0.9194,0.7095,0.9684,0.8154]\n",
    "resultmwu=stats.mannwhitneyu(weight_high,weight_low,alternative='two-sided')\n",
    "print(resultmwu)\n",
    "print(str(resultmwu)[35:-1])"
   ]
  },
  {
   "cell_type": "code",
   "execution_count": null,
   "outputs": [],
   "source": [
    "a=[1,2,3,4,5.5]\n",
    "# 保存列表到csv\n",
    "import csv\n",
    "with open('test.csv', 'w', newline='') as f:\n",
    "    writer = csv.writer(f)\n",
    "    # q:怎么写入一行后换行？\n",
    "    # a:writerow()写入一行，writerows()写入多行\n",
    "    writer.writerows([a,\"ee\"])\n"
   ],
   "metadata": {
    "collapsed": false,
    "ExecuteTime": {
     "start_time": "2023-04-09T18:54:24.532525Z",
     "end_time": "2023-04-09T18:54:24.548527Z"
    }
   }
  },
  {
   "cell_type": "code",
   "execution_count": null,
   "outputs": [],
   "source": [],
   "metadata": {
    "collapsed": false,
    "ExecuteTime": {
     "start_time": "2023-04-09T18:45:23.207843Z",
     "end_time": "2023-04-09T18:45:23.232844Z"
    }
   }
  },
  {
   "cell_type": "code",
   "execution_count": 2,
   "outputs": [
    {
     "name": "stdout",
     "output_type": "stream",
     "text": [
      "P值使用Mann-Whitney U检验的U值为： 1600.0\n",
      "R值使用Mann-Whitney U检验的U值为： 1410.0\n",
      "F值使用Mann-Whitney U检验的U值为： 1600.0\n",
      "P值使用Mann-Whitney U检验的显著性水平为： 1.429026534786171e-14\n",
      "R值使用Mann-Whitney U检验的显著性水平为： 4.479645473864432e-09\n",
      "F值使用Mann-Whitney U检验的显著性水平为： 1.4295305184146075e-14\n"
     ]
    }
   ],
   "source": [
    "import scipy.stats as stats\n",
    "Psmall = [0.5448, 0.3047, 0.8033, 0.2482, 0.5239, 0.4888, 0.4449,\n",
    "           0.4109,0.4775, 0.3282, 0.6851, 0.2745, 0.7161, 0.6182, 0.5976, 0.5001,0.4446, 0.3379, 0.3901, 0.1402, 0.3366, 0.3433, 0.3489, 0.3154,0.5401, 0.3406, 0.7083, 0.3143, 0.3301, 0.3324, 0.3280, 0.3105,0.5742, 0.3217, 0.7955, 0.1421, 0.4418, 0.4504, 0.4450, 0.386]\n",
    "Rsmall = [0.4224, 0.9661, 0.6777, 0.9588, 0.9095, 0.9397, 0.9267, 0.9658,\n",
    "           0.5124, 0.9344, 0.7948, 0.9431, 0.6921, 0.7605, 0.8156, 0.9289,\n",
    "           0.7757, 0.8697, 0.8473, 0.8737, 0.8646, 0.8512, 0.8512, 0.8988,\n",
    "           0.2882, 0.8972, 0.4425, 0.8519, 0.9162, 0.9123, 0.9201, 0.9335,\n",
    "           0.3310, 0.9413, 0.5515, 0.9086, 0.9162, 0.9162, 0.9292, 0.9504]\n",
    "Fsmall = [0.4438, 0.4570, 0.7126, 0.3835, 0.6383, 0.6185, 0.5796, 0.5551,\n",
    "           0.4598, 0.4660, 0.7159, 0.3993, 0.6864, 0.6716, 0.6723, 0.6253,\n",
    "           0.5301, 0.4731, 0.5245, 0.2254, 0.4764, 0.4827, 0.4888, 0.4870,\n",
    "           0.3394, 0.4879, 0.5105, 0.4416, 0.4802, 0.4816, 0.4782, 0.4595,\n",
    "           0.3854, 0.4652, 0.6211, 0.2392, 0.5868, 0.5937, 0.5923, 0.5343]\n",
    "Pbig = [0.0478, 0.0889, 0.0600, 0.0917, 0.0933, 0.0866, 0.0908, 0.0863,\n",
    "           0.0697, 0.0843, 0.1086, 0.0919, 0.0930, 0.0851, 0.0893, 0.0913,\n",
    "           0.0330, 0.0899, 0.0968, 0.0910, 0.0987, 0.0837, 0.0814, 0.0838,\n",
    "           0.0000, 0.0928, 0.0000, 0.0908, 0.1001, 0.0861, 0.0836, 0.0842,\n",
    "           0.0000, 0.0929, 0.0000, 0.0889, 0.0995, 0.0895, 0.0853, 0.0835]\n",
    "\n",
    "Rbig = [0.0131, 0.5398, 0.0214, 0.8537, 0.2361, 0.2643, 0.2966, 0.3830,\n",
    "           0.0956, 0.5201, 0.1245, 0.9034, 0.0912, 0.1772, 0.2041, 0.3075,\n",
    "           0.0170, 0.4602, 0.0143, 0.7534, 0.4837, 0.7473, 0.7395, 0.8051,\n",
    "           0.0000, 0.4616, 0.0000, 0.7724, 0.4867, 0.6017, 0.5915, 0.9316,\n",
    "           0.0000, 0.5177, 0.0000, 0.8048, 0.4575, 0.4976, 0.5000, 0.7435]\n",
    "\n",
    "Fbig = [0.0198, 0.1369, 0.0316, 0.1522, 0.1333, 0.1247, 0.1309, 0.1354,\n",
    "           0.0798, 0.1303, 0.1157, 0.1537, 0.0918, 0.1098, 0.1176, 0.1328,\n",
    "           0.0158, 0.0966, 0.0249, 0.1470, 0.0978, 0.1383, 0.1354, 0.1413,\n",
    "           0.0000, 0.1338, 0.0000, 0.1487, 0.1427, 0.1323, 0.1292, 0.1460,\n",
    "           0.0000, 0.2227, 0.0000, 0.1466, 0.1387, 0.1310, 0.1270, 0.1393]\n",
    "\n",
    "print(\"P值使用Mann-Whitney U检验的U值为：\",stats.mannwhitneyu(Psmall,Pbig,alternative='two-sided')[0])\n",
    "print(\"R值使用Mann-Whitney U检验的U值为：\",stats.mannwhitneyu(Rsmall,Rbig,alternative='two-sided')[0])\n",
    "print(\"F值使用Mann-Whitney U检验的U值为：\",stats.mannwhitneyu(Fsmall,Fbig,alternative='two-sided')[0])\n",
    "\n",
    "print(\"P值使用Mann-Whitney U检验的显著性水平为：\",stats.mannwhitneyu(Psmall,Pbig,alternative='two-sided')[1])\n",
    "print(\"R值使用Mann-Whitney U检验的显著性水平为：\",stats.mannwhitneyu(Rsmall,Rbig,alternative='two-sided')[1])\n",
    "print(\"F值使用Mann-Whitney U检验的显著性水平为：\",stats.mannwhitneyu(Fsmall,Fbig,alternative='two-sided')[1])\n",
    "# stats.mannwhitneyu(weight_high,weight_low,alternative='two-sided')\n",
    "\n",
    "# # 绘制分布图\n",
    "# import matplotlib.pyplot as plt\n",
    "# import seaborn as sns\n",
    "# sns.set()\n",
    "# # 图片大小\n",
    "# sns.set()\n",
    "# fig, axs = plt.subplots(3, 2,figsize=(10,10))\n",
    "# sns.distplot(Psmall, ax=axs[0, 0])\n",
    "# axs[0, 0].set_title('Psmall')\n",
    "# sns.distplot(Pbig, ax=axs[0, 1])\n",
    "# axs[0, 1].set_title('Pbig')\n",
    "# sns.distplot(Rsmall, ax=axs[1, 0])\n",
    "# axs[1, 0].set_title('Rsmall')\n",
    "# sns.distplot(Rbig, ax=axs[1, 1])\n",
    "# axs[1, 1].set_title('Rbig')\n",
    "# sns.distplot(Fsmall, ax=axs[2, 0])\n",
    "# axs[2, 0].set_title('Fsmall')\n",
    "# sns.distplot(Fbig, ax=axs[2, 1])\n",
    "# axs[2, 1].set_title('Fbig')\n",
    "# plt.show()\n",
    "# # 保存图片\n",
    "# fig.savefig('distplot.png')"
   ],
   "metadata": {
    "collapsed": false,
    "ExecuteTime": {
     "start_time": "2023-04-15T01:30:54.891426Z",
     "end_time": "2023-04-15T01:30:54.960603Z"
    }
   }
  },
  {
   "cell_type": "code",
   "execution_count": 4,
   "outputs": [
    {
     "name": "stdout",
     "output_type": "stream",
     "text": [
      "Psmall和Pbig的Z统计量为：-15.3960\n",
      "Rsmall和Rbig的Z统计量为：-13.5677\n",
      "Fsmall和Fbig的Z统计量为：-15.3960\n",
      "Psmall和Pbig的p值为： 7.145132673930855e-15\n",
      "Rsmall和Rbig的p值为： 2.239822736932216e-09\n",
      "Fsmall和Fbig的p值为： 7.147652592073038e-15\n"
     ]
    }
   ],
   "source": [
    "Psmall = [0.5448, 0.3047, 0.8033, 0.2482, 0.5239, 0.4888, 0.4449,\n",
    "           0.4109,0.4775, 0.3282, 0.6851, 0.2745, 0.7161, 0.6182, 0.5976, 0.5001,0.4446, 0.3379, 0.3901, 0.1402, 0.3366, 0.3433, 0.3489, 0.3154,0.5401, 0.3406, 0.7083, 0.3143, 0.3301, 0.3324, 0.3280, 0.3105,0.5742, 0.3217, 0.7955, 0.1421, 0.4418, 0.4504, 0.4450, 0.386]\n",
    "Rsmall = [0.4224, 0.9661, 0.6777, 0.9588, 0.9095, 0.9397, 0.9267, 0.9658,\n",
    "           0.5124, 0.9344, 0.7948, 0.9431, 0.6921, 0.7605, 0.8156, 0.9289,\n",
    "           0.7757, 0.8697, 0.8473, 0.8737, 0.8646, 0.8512, 0.8512, 0.8988,\n",
    "           0.2882, 0.8972, 0.4425, 0.8519, 0.9162, 0.9123, 0.9201, 0.9335,\n",
    "           0.3310, 0.9413, 0.5515, 0.9086, 0.9162, 0.9162, 0.9292, 0.9504]\n",
    "Fsmall = [0.4438, 0.4570, 0.7126, 0.3835, 0.6383, 0.6185, 0.5796, 0.5551,\n",
    "           0.4598, 0.4660, 0.7159, 0.3993, 0.6864, 0.6716, 0.6723, 0.6253,\n",
    "           0.5301, 0.4731, 0.5245, 0.2254, 0.4764, 0.4827, 0.4888, 0.4870,\n",
    "           0.3394, 0.4879, 0.5105, 0.4416, 0.4802, 0.4816, 0.4782, 0.4595,\n",
    "           0.3854, 0.4652, 0.6211, 0.2392, 0.5868, 0.5937, 0.5923, 0.5343]\n",
    "Pbig = [0.0478, 0.0889, 0.0600, 0.0917, 0.0933, 0.0866, 0.0908, 0.0863,\n",
    "           0.0697, 0.0843, 0.1086, 0.0919, 0.0930, 0.0851, 0.0893, 0.0913,\n",
    "           0.0330, 0.0899, 0.0968, 0.0910, 0.0987, 0.0837, 0.0814, 0.0838,\n",
    "           0.0000, 0.0928, 0.0000, 0.0908, 0.1001, 0.0861, 0.0836, 0.0842,\n",
    "           0.0000, 0.0929, 0.0000, 0.0889, 0.0995, 0.0895, 0.0853, 0.0835]\n",
    "\n",
    "Rbig = [0.0131, 0.5398, 0.0214, 0.8537, 0.2361, 0.2643, 0.2966, 0.3830,\n",
    "           0.0956, 0.5201, 0.1245, 0.9034, 0.0912, 0.1772, 0.2041, 0.3075,\n",
    "           0.0170, 0.4602, 0.0143, 0.7534, 0.4837, 0.7473, 0.7395, 0.8051,\n",
    "           0.0000, 0.4616, 0.0000, 0.7724, 0.4867, 0.6017, 0.5915, 0.9316,\n",
    "           0.0000, 0.5177, 0.0000, 0.8048, 0.4575, 0.4976, 0.5000, 0.7435]\n",
    "\n",
    "Fbig = [0.0198, 0.1369, 0.0316, 0.1522, 0.1333, 0.1247, 0.1309, 0.1354,\n",
    "           0.0798, 0.1303, 0.1157, 0.1537, 0.0918, 0.1098, 0.1176, 0.1328,\n",
    "           0.0158, 0.0966, 0.0249, 0.1470, 0.0978, 0.1383, 0.1354, 0.1413,\n",
    "           0.0000, 0.1338, 0.0000, 0.1487, 0.1427, 0.1323, 0.1292, 0.1460,\n",
    "           0.0000, 0.2227, 0.0000, 0.1466, 0.1387, 0.1310, 0.1270, 0.1393]\n",
    "\n",
    "import numpy as np\n",
    "from scipy.stats import mannwhitneyu\n",
    "\n",
    "\n",
    "# 进行 Mann-Whitney U 检验\n",
    "stat1, p1 = mannwhitneyu(Psmall, Pbig)\n",
    "stat2, p2 = mannwhitneyu(Rsmall, Rbig)\n",
    "stat3, p3 = mannwhitneyu(Fsmall, Fbig)\n",
    "\n",
    "\n",
    "# 计算 Z 统计量\n",
    "def cZ(num1,num2,Stat):\n",
    "    n1, n2 = len(num1), len(num2)\n",
    "    U = Stat - (n1 * n2) / 2\n",
    "    sd = np.sqrt(n1 * n2 * (n1 + n2 + 1) / 12)\n",
    "    z = (U - n1*n2/2) / sd\n",
    "    return z\n",
    "\n",
    "print('Psmall和Pbig的Z统计量为：%.4f' % cZ(Psmall,Pbig,stat1))\n",
    "print('Rsmall和Rbig的Z统计量为：%.4f' % cZ(Rsmall,Rbig,stat2))\n",
    "print('Fsmall和Fbig的Z统计量为：%.4f' % cZ(Fsmall,Fbig,stat3))\n",
    "\n",
    "print('Psmall和Pbig的p值为：' ,p1)\n",
    "print('Rsmall和Rbig的p值为：', p2)\n",
    "print('Fsmall和Fbig的p值为：', p3)\n",
    "\n"
   ],
   "metadata": {
    "collapsed": false,
    "ExecuteTime": {
     "start_time": "2023-04-15T01:31:45.632657Z",
     "end_time": "2023-04-15T01:31:45.668128Z"
    }
   }
  },
  {
   "cell_type": "code",
   "execution_count": 1,
   "outputs": [
    {
     "name": "stdout",
     "output_type": "stream",
     "text": [
      "Psmall和Pbig的U1为：2380.0000\n",
      "Psmall和Pbig的U2为：780.0000\n",
      "Rsmall和Rbig的U1为：2380.0000\n",
      "Rsmall和Rbig的U2为：780.0000\n",
      "Fsmall和Fbig的U1为：2380.0000\n",
      "Fsmall和Fbig的U2为：780.0000\n"
     ]
    }
   ],
   "source": [
    "import numpy as np\n",
    "Psmall = [0.5448, 0.3047, 0.8033, 0.2482, 0.5239, 0.4888, 0.4449,\n",
    "           0.4109,0.4775, 0.3282, 0.6851, 0.2745, 0.7161, 0.6182, 0.5976, 0.5001,0.4446, 0.3379, 0.3901, 0.1402, 0.3366, 0.3433, 0.3489, 0.3154,0.5401, 0.3406, 0.7083, 0.3143, 0.3301, 0.3324, 0.3280, 0.3105,0.5742, 0.3217, 0.7955, 0.1421, 0.4418, 0.4504, 0.4450, 0.386]\n",
    "Rsmall = [0.4224, 0.9661, 0.6777, 0.9588, 0.9095, 0.9397, 0.9267, 0.9658,\n",
    "           0.5124, 0.9344, 0.7948, 0.9431, 0.6921, 0.7605, 0.8156, 0.9289,\n",
    "           0.7757, 0.8697, 0.8473, 0.8737, 0.8646, 0.8512, 0.8512, 0.8988,\n",
    "           0.2882, 0.8972, 0.4425, 0.8519, 0.9162, 0.9123, 0.9201, 0.9335,\n",
    "           0.3310, 0.9413, 0.5515, 0.9086, 0.9162, 0.9162, 0.9292, 0.9504]\n",
    "Fsmall = [0.4438, 0.4570, 0.7126, 0.3835, 0.6383, 0.6185, 0.5796, 0.5551,\n",
    "           0.4598, 0.4660, 0.7159, 0.3993, 0.6864, 0.6716, 0.6723, 0.6253,\n",
    "           0.5301, 0.4731, 0.5245, 0.2254, 0.4764, 0.4827, 0.4888, 0.4870,\n",
    "           0.3394, 0.4879, 0.5105, 0.4416, 0.4802, 0.4816, 0.4782, 0.4595,\n",
    "           0.3854, 0.4652, 0.6211, 0.2392, 0.5868, 0.5937, 0.5923, 0.5343]\n",
    "Pbig = [0.0478, 0.0889, 0.0600, 0.0917, 0.0933, 0.0866, 0.0908, 0.0863,\n",
    "           0.0697, 0.0843, 0.1086, 0.0919, 0.0930, 0.0851, 0.0893, 0.0913,\n",
    "           0.0330, 0.0899, 0.0968, 0.0910, 0.0987, 0.0837, 0.0814, 0.0838,\n",
    "           0.0000, 0.0928, 0.0000, 0.0908, 0.1001, 0.0861, 0.0836, 0.0842,\n",
    "           0.0000, 0.0929, 0.0000, 0.0889, 0.0995, 0.0895, 0.0853, 0.0835]\n",
    "\n",
    "Rbig = [0.0131, 0.5398, 0.0214, 0.8537, 0.2361, 0.2643, 0.2966, 0.3830,\n",
    "           0.0956, 0.5201, 0.1245, 0.9034, 0.0912, 0.1772, 0.2041, 0.3075,\n",
    "           0.0170, 0.4602, 0.0143, 0.7534, 0.4837, 0.7473, 0.7395, 0.8051,\n",
    "           0.0000, 0.4616, 0.0000, 0.7724, 0.4867, 0.6017, 0.5915, 0.9316,\n",
    "           0.0000, 0.5177, 0.0000, 0.8048, 0.4575, 0.4976, 0.5000, 0.7435]\n",
    "\n",
    "Fbig = [0.0198, 0.1369, 0.0316, 0.1522, 0.1333, 0.1247, 0.1309, 0.1354,\n",
    "           0.0798, 0.1303, 0.1157, 0.1537, 0.0918, 0.1098, 0.1176, 0.1328,\n",
    "           0.0158, 0.0966, 0.0249, 0.1470, 0.0978, 0.1383, 0.1354, 0.1413,\n",
    "           0.0000, 0.1338, 0.0000, 0.1487, 0.1427, 0.1323, 0.1292, 0.1460,\n",
    "           0.0000, 0.2227, 0.0000, 0.1466, 0.1387, 0.1310, 0.1270, 0.1393]\n",
    "# 假设两个样本分别为data1和data2\n",
    "\n",
    "\n",
    "def getu(num1,num2):\n",
    "    data = np.concatenate([num1, num2])\n",
    "    data_sorted = np.sort(data)\n",
    "    ranks = np.argsort(np.argsort(-data_sorted))\n",
    "    U1 = np.sum(ranks[:len(num1)])\n",
    "    U2 = np.sum(ranks[len(num1):])\n",
    "    return U1,U2\n",
    "\n",
    "PU1,PU2 = getu(Psmall,Pbig)\n",
    "RU1,RU2 = getu(Rsmall,Rbig)\n",
    "FU1,FU2 = getu(Fsmall,Fbig)\n",
    "print('Psmall和Pbig的U1为：%.4f' % PU1)\n",
    "print('Psmall和Pbig的U2为：%.4f' % PU2)\n",
    "print('Rsmall和Rbig的U1为：%.4f' % RU1)\n",
    "print('Rsmall和Rbig的U2为：%.4f' % RU2)\n",
    "print('Fsmall和Fbig的U1为：%.4f' % FU1)\n",
    "print('Fsmall和Fbig的U2为：%.4f' % FU2)\n",
    "\n"
   ],
   "metadata": {
    "collapsed": false,
    "ExecuteTime": {
     "start_time": "2023-04-15T01:46:36.302899Z",
     "end_time": "2023-04-15T01:46:36.440913Z"
    }
   }
  },
  {
   "cell_type": "code",
   "execution_count": null,
   "outputs": [],
   "source": [
    "import matplotlib.pyplot as plt\n",
    "# 绘制Psmall和Pbig的箱线图\n",
    "plt.boxplot([Psmall,Pbig],labels=['Psmall','Pbig'])\n",
    "plt.show()\n",
    "# 绘制Rsmall和Rbig的箱线图\n",
    "plt.boxplot([Rsmall,Rbig],labels=['Rsmall','Rbig'])\n",
    "plt.show()\n",
    "# 绘制Fsmall和Fbig的箱线图\n",
    "plt.boxplot([Fsmall,Fbig],labels=['Fsmall','Fbig'])\n",
    "plt.show()\n",
    "\n",
    "# 绘制Psmall和Pbig的直方图\n",
    "fig, (ax1, ax2) = plt.subplots(1, 2)\n",
    "ax1.hist(Psmall, bins=10)\n",
    "ax2.hist(Pbig, bins=10)\n",
    "plt.show()\n",
    "# 绘制Rsmall和Rbig的直方图\n",
    "plt.hist(Rsmall,bins=10)\n",
    "plt.hist(Rbig,bins=10)\n",
    "plt.show()\n",
    "# 绘制Fsmall和Fbig的直方图\n",
    "plt.hist(Fsmall,bins=10)\n",
    "plt.hist(Fbig,bins=10)\n",
    "plt.show()\n"
   ],
   "metadata": {
    "collapsed": false,
    "ExecuteTime": {
     "start_time": "2023-04-10T18:13:27.182851Z",
     "end_time": "2023-04-10T18:13:27.744633Z"
    }
   }
  },
  {
   "cell_type": "code",
   "execution_count": null,
   "outputs": [],
   "source": [
    "import matplotlib.pyplot as plt\n",
    "\n",
    "fig, axs = plt.subplots(3, 2)\n",
    "# 设置图片大小\n",
    "fig.set_size_inches(10, 10)\n",
    "axs[0, 0].hist(Psmall, bins=10)\n",
    "axs[0, 0].set_title('Psmall')\n",
    "axs[0, 1].hist(Pbig, bins=10)\n",
    "axs[0, 1].set_title('Plarge')\n",
    "axs[1, 0].hist(Rsmall, bins=10)\n",
    "axs[1, 0].set_title('Rsmall')\n",
    "axs[1, 1].hist(Rbig, bins=10)\n",
    "axs[1, 1].set_title('Rlarge')\n",
    "axs[2, 0].hist(Fsmall, bins=10)\n",
    "axs[2, 0].set_title('Fsmall')\n",
    "axs[2, 1].hist(Fbig, bins=10)\n",
    "axs[2, 1].set_title('Flarge')\n",
    "plt.show()"
   ],
   "metadata": {
    "collapsed": false,
    "ExecuteTime": {
     "start_time": "2023-04-10T18:14:06.583408Z",
     "end_time": "2023-04-10T18:14:07.075537Z"
    }
   }
  },
  {
   "cell_type": "code",
   "execution_count": null,
   "outputs": [],
   "source": [],
   "metadata": {
    "collapsed": false
   }
  }
 ],
 "metadata": {
  "kernelspec": {
   "display_name": "Python 3.6.8 64-bit",
   "language": "python",
   "name": "python3"
  },
  "language_info": {
   "codemirror_mode": {
    "name": "ipython",
    "version": 3
   },
   "file_extension": ".py",
   "mimetype": "text/x-python",
   "name": "python",
   "nbconvert_exporter": "python",
   "pygments_lexer": "ipython3",
   "version": "3.6.8 (tags/v3.6.8:3c6b436a57, Dec 24 2018, 00:16:47) [MSC v.1916 64 bit (AMD64)]"
  },
  "orig_nbformat": 4,
  "vscode": {
   "interpreter": {
    "hash": "620e10979616b52f04cdcf4a5cffe0fe63efdd1be74bc8cf9c3e328745c0831f"
   }
  }
 },
 "nbformat": 4,
 "nbformat_minor": 2
}
